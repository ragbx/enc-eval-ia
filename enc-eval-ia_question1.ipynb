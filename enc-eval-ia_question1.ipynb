{
  "nbformat": 4,
  "nbformat_minor": 0,
  "metadata": {
    "colab": {
      "name": "enc-eval-ia_question1.ipynb",
      "provenance": [],
      "collapsed_sections": [],
      "toc_visible": true
    },
    "kernelspec": {
      "name": "python3",
      "display_name": "Python 3"
    }
  },
  "cells": [
    {
      "cell_type": "markdown",
      "metadata": {
        "id": "AqXexmoJJ8AP",
        "colab_type": "text"
      },
      "source": [
        "# ENC - master Humanités numériques\n",
        "\n",
        "# Évaluation pour le cours d'apprentissage machine : question 1\n",
        "\n",
        "\n",
        "\n",
        "\n"
      ]
    },
    {
      "cell_type": "markdown",
      "metadata": {
        "id": "vRDRCiJqJLis",
        "colab_type": "text"
      },
      "source": [
        "## Question : CIFAR10\n",
        "Modifiez le fichier Jupiter \"cnn.ipynb\"  permettant d'effectuer du deep Learning sur le jeu de données CIFAR10 en proposant 2 architectures alternatives dont une sans convolution.\\\n",
        "Présenter quelques exemples de mauvaises prédiction et commentez-les.\\\n",
        "Calculez la matrice de confusion pour chacune des architectures.\\\n",
        "Présentez également les courbes de précision comparant celles calculées sur les données d'entrainement et celles calculées sur les données tests. Commentez."
      ]
    },
    {
      "cell_type": "markdown",
      "metadata": {
        "id": "fybXFXj9UiDy",
        "colab_type": "text"
      },
      "source": [
        "## On importe les différents modules :"
      ]
    },
    {
      "cell_type": "code",
      "metadata": {
        "id": "8jJdHesJmiiP",
        "colab_type": "code",
        "outputId": "bc3cef2a-16db-4e2f-ad0f-b3e0dbf35213",
        "colab": {
          "base_uri": "https://localhost:8080/",
          "height": 124
        }
      },
      "source": [
        "from google.colab import drive\n",
        "drive.mount('/content/drive')"
      ],
      "execution_count": 1,
      "outputs": [
        {
          "output_type": "stream",
          "text": [
            "Go to this URL in a browser: https://accounts.google.com/o/oauth2/auth?client_id=947318989803-6bn6qk8qdgf4n4g3pfee6491hc0brc4i.apps.googleusercontent.com&redirect_uri=urn%3aietf%3awg%3aoauth%3a2.0%3aoob&response_type=code&scope=email%20https%3a%2f%2fwww.googleapis.com%2fauth%2fdocs.test%20https%3a%2f%2fwww.googleapis.com%2fauth%2fdrive%20https%3a%2f%2fwww.googleapis.com%2fauth%2fdrive.photos.readonly%20https%3a%2f%2fwww.googleapis.com%2fauth%2fpeopleapi.readonly\n",
            "\n",
            "Enter your authorization code:\n",
            "··········\n",
            "Mounted at /content/drive\n"
          ],
          "name": "stdout"
        }
      ]
    },
    {
      "cell_type": "code",
      "metadata": {
        "id": "ppSxxlWeLhSc",
        "colab_type": "code",
        "colab": {}
      },
      "source": [
        "from __future__ import absolute_import, division, print_function, unicode_literals\n",
        "\n",
        "try:\n",
        "  # %tensorflow_version only exists in Colab.\n",
        "  %tensorflow_version 2.x\n",
        "except Exception:\n",
        "  pass\n",
        "import tensorflow as tf\n",
        "\n",
        "from tensorflow.keras import datasets, layers, models\n",
        "import matplotlib.pyplot as plt\n",
        "\n",
        "import numpy as np\n",
        "import pandas as pd\n",
        "\n",
        "from sklearn.metrics import confusion_matrix"
      ],
      "execution_count": 0,
      "outputs": []
    },
    {
      "cell_type": "markdown",
      "metadata": {
        "id": "nITZuTW0LuGT",
        "colab_type": "text"
      },
      "source": [
        "## On importe le jeu de données CIFAR10.\n",
        "\n",
        "Chaque pixel est codé par une valeur comprise entre 0 et 255. On normalise cette valeur pour qu'elle soit comprise entre 0 et 1."
      ]
    },
    {
      "cell_type": "code",
      "metadata": {
        "id": "-Vg3qaJxJ3rJ",
        "colab_type": "code",
        "outputId": "ba552af1-e843-4abe-8210-1e1aaa112058",
        "colab": {
          "base_uri": "https://localhost:8080/",
          "height": 52
        }
      },
      "source": [
        "(train_images, train_labels), (test_images, test_labels) = datasets.cifar10.load_data()\n",
        "\n",
        "# Normalize pixel values to be between 0 and 1\n",
        "train_images, test_images = train_images / 255.0, test_images / 255.0"
      ],
      "execution_count": 3,
      "outputs": [
        {
          "output_type": "stream",
          "text": [
            "Downloading data from https://www.cs.toronto.edu/~kriz/cifar-10-python.tar.gz\n",
            "170500096/170498071 [==============================] - 2s 0us/step\n"
          ],
          "name": "stdout"
        }
      ]
    },
    {
      "cell_type": "markdown",
      "metadata": {
        "id": "f0f7aD1rMNbY",
        "colab_type": "text"
      },
      "source": [
        "On affiche les 25 premières images."
      ]
    },
    {
      "cell_type": "code",
      "metadata": {
        "id": "XrsxKrPeMP48",
        "colab_type": "code",
        "colab": {}
      },
      "source": [
        "class_names = ['airplane', 'automobile', 'bird', 'cat', 'deer',\n",
        "               'dog', 'frog', 'horse', 'ship', 'truck']\n",
        "\n",
        "plt.figure(figsize=(10,10))\n",
        "for i in range(25):\n",
        "    plt.subplot(5,5,i+1)\n",
        "    plt.xticks([])\n",
        "    plt.yticks([])\n",
        "    plt.grid(False)\n",
        "    plt.imshow(train_images[i], cmap=plt.cm.binary)\n",
        "    # The CIFAR labels happen to be arrays, \n",
        "    # which is why you need the extra index\n",
        "    plt.xlabel(class_names[train_labels[i][0]])\n",
        "plt.show()"
      ],
      "execution_count": 0,
      "outputs": []
    },
    {
      "cell_type": "markdown",
      "metadata": {
        "id": "I-v_fRYuMkml",
        "colab_type": "text"
      },
      "source": [
        "## Modèle 1 : modèle convolutionnaire (exemple du cours)"
      ]
    },
    {
      "cell_type": "markdown",
      "metadata": {
        "id": "cKaLS8UHscYD",
        "colab_type": "text"
      },
      "source": [
        ""
      ]
    },
    {
      "cell_type": "markdown",
      "metadata": {
        "id": "OFsjys_iU12_",
        "colab_type": "text"
      },
      "source": [
        "### On crée le modèle"
      ]
    },
    {
      "cell_type": "code",
      "metadata": {
        "colab_type": "code",
        "id": "L9YmGQBQPrdn",
        "colab": {}
      },
      "source": [
        "model = models.Sequential()\n",
        "model.add(layers.Conv2D(32, (3, 3), activation='relu', input_shape=(32, 32, 3)))\n",
        "model.add(layers.MaxPooling2D((2, 2)))\n",
        "model.add(layers.Conv2D(64, (3, 3), activation='relu'))\n",
        "model.add(layers.MaxPooling2D((2, 2)))\n",
        "model.add(layers.Conv2D(64, (3, 3), activation='relu'))"
      ],
      "execution_count": 0,
      "outputs": []
    },
    {
      "cell_type": "code",
      "metadata": {
        "id": "cJyqK3qjMtuD",
        "colab_type": "code",
        "colab": {}
      },
      "source": [
        "model.add(layers.Flatten())\n",
        "model.add(layers.Dense(64, activation='relu'))\n",
        "model.add(layers.Dense(10))"
      ],
      "execution_count": 0,
      "outputs": []
    },
    {
      "cell_type": "code",
      "metadata": {
        "id": "gX8g4AFVNTCU",
        "colab_type": "code",
        "outputId": "d4840205-9d39-4668-e294-2de7453ad196",
        "colab": {
          "base_uri": "https://localhost:8080/",
          "height": 434
        }
      },
      "source": [
        "model.summary()"
      ],
      "execution_count": 62,
      "outputs": [
        {
          "output_type": "stream",
          "text": [
            "Model: \"sequential_16\"\n",
            "_________________________________________________________________\n",
            "Layer (type)                 Output Shape              Param #   \n",
            "=================================================================\n",
            "conv2d_38 (Conv2D)           (None, 30, 30, 32)        896       \n",
            "_________________________________________________________________\n",
            "max_pooling2d_23 (MaxPooling (None, 15, 15, 32)        0         \n",
            "_________________________________________________________________\n",
            "conv2d_39 (Conv2D)           (None, 13, 13, 64)        18496     \n",
            "_________________________________________________________________\n",
            "max_pooling2d_24 (MaxPooling (None, 6, 6, 64)          0         \n",
            "_________________________________________________________________\n",
            "conv2d_40 (Conv2D)           (None, 4, 4, 64)          36928     \n",
            "_________________________________________________________________\n",
            "flatten_10 (Flatten)         (None, 1024)              0         \n",
            "_________________________________________________________________\n",
            "dense_19 (Dense)             (None, 64)                65600     \n",
            "_________________________________________________________________\n",
            "dense_20 (Dense)             (None, 10)                650       \n",
            "=================================================================\n",
            "Total params: 122,570\n",
            "Trainable params: 122,570\n",
            "Non-trainable params: 0\n",
            "_________________________________________________________________\n"
          ],
          "name": "stdout"
        }
      ]
    },
    {
      "cell_type": "markdown",
      "metadata": {
        "id": "ezJEkCfNNeOD",
        "colab_type": "text"
      },
      "source": [
        "### On compile et entraîne le modèle"
      ]
    },
    {
      "cell_type": "code",
      "metadata": {
        "colab_type": "code",
        "id": "MdDzI75PUXrG",
        "outputId": "9293c67d-108e-4d7a-a6b0-d1156b6dee90",
        "colab": {
          "base_uri": "https://localhost:8080/",
          "height": 1000
        }
      },
      "source": [
        "model.compile(optimizer='adam',\n",
        "              loss=tf.keras.losses.SparseCategoricalCrossentropy(from_logits=True),\n",
        "              metrics=['accuracy'])\n",
        "\n",
        "history = model.fit(train_images, train_labels, epochs=30, \n",
        "                    validation_data=(test_images, test_labels))"
      ],
      "execution_count": 63,
      "outputs": [
        {
          "output_type": "stream",
          "text": [
            "Epoch 1/30\n",
            "1563/1563 [==============================] - 65s 42ms/step - loss: 1.5102 - accuracy: 0.4491 - val_loss: 1.2260 - val_accuracy: 0.5591\n",
            "Epoch 2/30\n",
            "1563/1563 [==============================] - 65s 42ms/step - loss: 1.1362 - accuracy: 0.5964 - val_loss: 1.0785 - val_accuracy: 0.6217\n",
            "Epoch 3/30\n",
            "1563/1563 [==============================] - 65s 42ms/step - loss: 0.9975 - accuracy: 0.6502 - val_loss: 1.0410 - val_accuracy: 0.6342\n",
            "Epoch 4/30\n",
            "1563/1563 [==============================] - 65s 42ms/step - loss: 0.9078 - accuracy: 0.6796 - val_loss: 0.9714 - val_accuracy: 0.6632\n",
            "Epoch 5/30\n",
            "1563/1563 [==============================] - 65s 41ms/step - loss: 0.8366 - accuracy: 0.7070 - val_loss: 0.9208 - val_accuracy: 0.6782\n",
            "Epoch 6/30\n",
            "1563/1563 [==============================] - 65s 42ms/step - loss: 0.7802 - accuracy: 0.7268 - val_loss: 0.9194 - val_accuracy: 0.6799\n",
            "Epoch 7/30\n",
            "1563/1563 [==============================] - 65s 42ms/step - loss: 0.7299 - accuracy: 0.7436 - val_loss: 0.9198 - val_accuracy: 0.6884\n",
            "Epoch 8/30\n",
            "1563/1563 [==============================] - 65s 42ms/step - loss: 0.6856 - accuracy: 0.7608 - val_loss: 0.8903 - val_accuracy: 0.7000\n",
            "Epoch 9/30\n",
            "1563/1563 [==============================] - 65s 41ms/step - loss: 0.6480 - accuracy: 0.7726 - val_loss: 0.8657 - val_accuracy: 0.7074\n",
            "Epoch 10/30\n",
            "1563/1563 [==============================] - 65s 41ms/step - loss: 0.6114 - accuracy: 0.7835 - val_loss: 0.9245 - val_accuracy: 0.6979\n",
            "Epoch 11/30\n",
            "1563/1563 [==============================] - 64s 41ms/step - loss: 0.5733 - accuracy: 0.7959 - val_loss: 0.9180 - val_accuracy: 0.7059\n",
            "Epoch 12/30\n",
            "1563/1563 [==============================] - 64s 41ms/step - loss: 0.5396 - accuracy: 0.8083 - val_loss: 0.9190 - val_accuracy: 0.7080\n",
            "Epoch 13/30\n",
            "1563/1563 [==============================] - 65s 41ms/step - loss: 0.5147 - accuracy: 0.8159 - val_loss: 0.9460 - val_accuracy: 0.7086\n",
            "Epoch 14/30\n",
            "1563/1563 [==============================] - 64s 41ms/step - loss: 0.4789 - accuracy: 0.8295 - val_loss: 0.9364 - val_accuracy: 0.7108\n",
            "Epoch 15/30\n",
            "1563/1563 [==============================] - 64s 41ms/step - loss: 0.4555 - accuracy: 0.8370 - val_loss: 1.0158 - val_accuracy: 0.7091\n",
            "Epoch 16/30\n",
            "1563/1563 [==============================] - 64s 41ms/step - loss: 0.4289 - accuracy: 0.8462 - val_loss: 1.0632 - val_accuracy: 0.7003\n",
            "Epoch 17/30\n",
            "1563/1563 [==============================] - 64s 41ms/step - loss: 0.4068 - accuracy: 0.8551 - val_loss: 1.0659 - val_accuracy: 0.7060\n",
            "Epoch 18/30\n",
            "1563/1563 [==============================] - 64s 41ms/step - loss: 0.3817 - accuracy: 0.8631 - val_loss: 1.1298 - val_accuracy: 0.6992\n",
            "Epoch 19/30\n",
            "1563/1563 [==============================] - 64s 41ms/step - loss: 0.3585 - accuracy: 0.8715 - val_loss: 1.2050 - val_accuracy: 0.6940\n",
            "Epoch 20/30\n",
            "1563/1563 [==============================] - 64s 41ms/step - loss: 0.3373 - accuracy: 0.8782 - val_loss: 1.1883 - val_accuracy: 0.6962\n",
            "Epoch 21/30\n",
            "1563/1563 [==============================] - 64s 41ms/step - loss: 0.3140 - accuracy: 0.8887 - val_loss: 1.2783 - val_accuracy: 0.6931\n",
            "Epoch 22/30\n",
            "1563/1563 [==============================] - 65s 42ms/step - loss: 0.3011 - accuracy: 0.8916 - val_loss: 1.4062 - val_accuracy: 0.6792\n",
            "Epoch 23/30\n",
            "1563/1563 [==============================] - 67s 43ms/step - loss: 0.2840 - accuracy: 0.8974 - val_loss: 1.4149 - val_accuracy: 0.6957\n",
            "Epoch 24/30\n",
            "1563/1563 [==============================] - 65s 42ms/step - loss: 0.2653 - accuracy: 0.9039 - val_loss: 1.4352 - val_accuracy: 0.6787\n",
            "Epoch 25/30\n",
            "1563/1563 [==============================] - 65s 42ms/step - loss: 0.2514 - accuracy: 0.9090 - val_loss: 1.5208 - val_accuracy: 0.6905\n",
            "Epoch 26/30\n",
            "1563/1563 [==============================] - 65s 41ms/step - loss: 0.2399 - accuracy: 0.9135 - val_loss: 1.5296 - val_accuracy: 0.6841\n",
            "Epoch 27/30\n",
            "1563/1563 [==============================] - 65s 42ms/step - loss: 0.2259 - accuracy: 0.9187 - val_loss: 1.6031 - val_accuracy: 0.6791\n",
            "Epoch 28/30\n",
            "1563/1563 [==============================] - 65s 42ms/step - loss: 0.2163 - accuracy: 0.9213 - val_loss: 1.6888 - val_accuracy: 0.6848\n",
            "Epoch 29/30\n",
            "1563/1563 [==============================] - 65s 42ms/step - loss: 0.2099 - accuracy: 0.9237 - val_loss: 1.6887 - val_accuracy: 0.6775\n",
            "Epoch 30/30\n",
            "1563/1563 [==============================] - 64s 41ms/step - loss: 0.1967 - accuracy: 0.9289 - val_loss: 1.7405 - val_accuracy: 0.6843\n"
          ],
          "name": "stdout"
        }
      ]
    },
    {
      "cell_type": "markdown",
      "metadata": {
        "id": "flTxbH61UA6P",
        "colab_type": "text"
      },
      "source": [
        "On sauvegarde le modèle"
      ]
    },
    {
      "cell_type": "code",
      "metadata": {
        "id": "6B6uQCHwhk3L",
        "colab_type": "code",
        "colab": {}
      },
      "source": [
        "model.save('cifar10_model1_20200401.h5')"
      ],
      "execution_count": 0,
      "outputs": []
    },
    {
      "cell_type": "code",
      "metadata": {
        "id": "xBN-ePg2m11q",
        "colab_type": "code",
        "colab": {
          "base_uri": "https://localhost:8080/",
          "height": 34
        },
        "outputId": "d82dcc3b-f7a6-4c0d-ca11-c4b3744164a6"
      },
      "source": [
        "cp cifar10_model1_20200401_a.hd5 drive/My\\ Drive/eval_ia/."
      ],
      "execution_count": 65,
      "outputs": [
        {
          "output_type": "stream",
          "text": [
            "cp: -r not specified; omitting directory 'cifar10_model1_20200401_a.hd5'\n"
          ],
          "name": "stdout"
        }
      ]
    },
    {
      "cell_type": "markdown",
      "metadata": {
        "id": "59NqQPkghgqA",
        "colab_type": "text"
      },
      "source": [
        ""
      ]
    },
    {
      "cell_type": "markdown",
      "metadata": {
        "id": "64UQxwEBVeZW",
        "colab_type": "text"
      },
      "source": [
        "## Modèle 2 : modèle convolutionnaire avec paramètres modifiés"
      ]
    },
    {
      "cell_type": "markdown",
      "metadata": {
        "id": "UOiGPtanfnwh",
        "colab_type": "text"
      },
      "source": [
        "### On crée le modèle"
      ]
    },
    {
      "cell_type": "code",
      "metadata": {
        "id": "U9XW5mROfzIX",
        "colab_type": "code",
        "colab": {}
      },
      "source": [
        "model2 = models.Sequential()\n",
        "model2.add(layers.Conv2D(32, (3, 3), activation='relu', input_shape=(32, 32, 3)))\n",
        "model2.add(layers.MaxPooling2D((2, 2)))\n",
        "model2.add(layers.Dropout(0.25))\n",
        "model2.add(layers.Conv2D(128, (3, 3), activation='relu'))\n",
        "model2.add(layers.MaxPooling2D((2, 2)))\n",
        "model2.add(layers.Dropout(0.25))\n",
        "model2.add(layers.Conv2D(128, (3, 3), activation='relu'))"
      ],
      "execution_count": 0,
      "outputs": []
    },
    {
      "cell_type": "code",
      "metadata": {
        "id": "2296g0Gqf_be",
        "colab_type": "code",
        "colab": {}
      },
      "source": [
        "model2.add(layers.Flatten())\n",
        "model2.add(layers.Dense(512, activation='relu'))\n",
        "model2.add(layers.Dropout(0.25))\n",
        "model2.add(layers.Dense(10))"
      ],
      "execution_count": 0,
      "outputs": []
    },
    {
      "cell_type": "code",
      "metadata": {
        "id": "vXLKuXyLgDMB",
        "colab_type": "code",
        "colab": {}
      },
      "source": [
        "model2.summary()"
      ],
      "execution_count": 0,
      "outputs": []
    },
    {
      "cell_type": "markdown",
      "metadata": {
        "id": "yx1RkyUtftdD",
        "colab_type": "text"
      },
      "source": [
        "### On compile et entraine le modèle"
      ]
    },
    {
      "cell_type": "code",
      "metadata": {
        "id": "LeUKhuAwgtBD",
        "colab_type": "code",
        "outputId": "829e95f2-b3fd-47eb-a1df-dc43db4f3378",
        "colab": {
          "base_uri": "https://localhost:8080/",
          "height": 1000
        }
      },
      "source": [
        "model2.compile(optimizer='adam',\n",
        "              loss=tf.keras.losses.SparseCategoricalCrossentropy(from_logits=True),\n",
        "              metrics=['accuracy'])\n",
        "\n",
        "history2 = model2.fit(train_images, train_labels, epochs=30, \n",
        "                    validation_data=(test_images, test_labels))"
      ],
      "execution_count": 51,
      "outputs": [
        {
          "output_type": "stream",
          "text": [
            "Epoch 1/30\n",
            "1563/1563 [==============================] - 134s 86ms/step - loss: 1.0381 - accuracy: 0.6341 - val_loss: 0.9348 - val_accuracy: 0.6705\n",
            "Epoch 2/30\n",
            "1563/1563 [==============================] - 135s 87ms/step - loss: 0.9304 - accuracy: 0.6719 - val_loss: 0.9252 - val_accuracy: 0.6783\n",
            "Epoch 3/30\n",
            "1563/1563 [==============================] - 135s 86ms/step - loss: 0.8532 - accuracy: 0.6980 - val_loss: 0.8405 - val_accuracy: 0.7041\n",
            "Epoch 4/30\n",
            "1563/1563 [==============================] - 133s 85ms/step - loss: 0.7919 - accuracy: 0.7199 - val_loss: 0.8641 - val_accuracy: 0.7035\n",
            "Epoch 5/30\n",
            "1563/1563 [==============================] - 133s 85ms/step - loss: 0.7420 - accuracy: 0.7392 - val_loss: 0.8014 - val_accuracy: 0.7236\n",
            "Epoch 6/30\n",
            "1563/1563 [==============================] - 133s 85ms/step - loss: 0.6971 - accuracy: 0.7519 - val_loss: 0.8186 - val_accuracy: 0.7175\n",
            "Epoch 7/30\n",
            "1563/1563 [==============================] - 133s 85ms/step - loss: 0.6554 - accuracy: 0.7687 - val_loss: 0.7928 - val_accuracy: 0.7316\n",
            "Epoch 8/30\n",
            "1563/1563 [==============================] - 133s 85ms/step - loss: 0.6210 - accuracy: 0.7799 - val_loss: 0.8278 - val_accuracy: 0.7275\n",
            "Epoch 9/30\n",
            "1563/1563 [==============================] - 133s 85ms/step - loss: 0.5850 - accuracy: 0.7942 - val_loss: 0.9063 - val_accuracy: 0.7189\n",
            "Epoch 10/30\n",
            "1563/1563 [==============================] - 133s 85ms/step - loss: 0.5547 - accuracy: 0.8006 - val_loss: 0.8195 - val_accuracy: 0.7340\n",
            "Epoch 11/30\n",
            "1563/1563 [==============================] - 132s 85ms/step - loss: 0.5324 - accuracy: 0.8107 - val_loss: 0.8734 - val_accuracy: 0.7259\n",
            "Epoch 12/30\n",
            "1563/1563 [==============================] - 132s 85ms/step - loss: 0.5126 - accuracy: 0.8175 - val_loss: 0.8319 - val_accuracy: 0.7355\n",
            "Epoch 13/30\n",
            "1563/1563 [==============================] - 132s 85ms/step - loss: 0.4860 - accuracy: 0.8288 - val_loss: 0.9010 - val_accuracy: 0.7222\n",
            "Epoch 14/30\n",
            "1563/1563 [==============================] - 133s 85ms/step - loss: 0.4710 - accuracy: 0.8331 - val_loss: 0.8892 - val_accuracy: 0.7327\n",
            "Epoch 15/30\n",
            "1563/1563 [==============================] - 133s 85ms/step - loss: 0.4536 - accuracy: 0.8408 - val_loss: 0.9318 - val_accuracy: 0.7261\n",
            "Epoch 16/30\n",
            "1563/1563 [==============================] - 132s 85ms/step - loss: 0.4456 - accuracy: 0.8437 - val_loss: 0.9308 - val_accuracy: 0.7246\n",
            "Epoch 17/30\n",
            "1563/1563 [==============================] - 132s 84ms/step - loss: 0.4301 - accuracy: 0.8487 - val_loss: 0.9185 - val_accuracy: 0.7258\n",
            "Epoch 18/30\n",
            "1563/1563 [==============================] - 131s 84ms/step - loss: 0.4204 - accuracy: 0.8529 - val_loss: 0.9878 - val_accuracy: 0.7239\n",
            "Epoch 19/30\n",
            "1563/1563 [==============================] - 132s 84ms/step - loss: 0.4049 - accuracy: 0.8573 - val_loss: 0.9642 - val_accuracy: 0.7364\n",
            "Epoch 20/30\n",
            "1563/1563 [==============================] - 132s 85ms/step - loss: 0.3929 - accuracy: 0.8632 - val_loss: 0.9854 - val_accuracy: 0.7347\n",
            "Epoch 21/30\n",
            "1563/1563 [==============================] - 131s 84ms/step - loss: 0.3804 - accuracy: 0.8660 - val_loss: 0.9997 - val_accuracy: 0.7349\n",
            "Epoch 22/30\n",
            "1563/1563 [==============================] - 131s 84ms/step - loss: 0.3846 - accuracy: 0.8660 - val_loss: 1.0498 - val_accuracy: 0.7275\n",
            "Epoch 23/30\n",
            "1563/1563 [==============================] - 131s 84ms/step - loss: 0.3669 - accuracy: 0.8717 - val_loss: 1.0451 - val_accuracy: 0.7270\n",
            "Epoch 24/30\n",
            "1563/1563 [==============================] - 131s 84ms/step - loss: 0.3582 - accuracy: 0.8754 - val_loss: 1.0569 - val_accuracy: 0.7343\n",
            "Epoch 25/30\n",
            "1563/1563 [==============================] - 131s 84ms/step - loss: 0.3543 - accuracy: 0.8790 - val_loss: 1.0727 - val_accuracy: 0.7281\n",
            "Epoch 26/30\n",
            "1563/1563 [==============================] - 131s 84ms/step - loss: 0.3505 - accuracy: 0.8768 - val_loss: 1.0842 - val_accuracy: 0.7362\n",
            "Epoch 27/30\n",
            "1563/1563 [==============================] - 132s 84ms/step - loss: 0.3427 - accuracy: 0.8825 - val_loss: 1.1045 - val_accuracy: 0.7296\n",
            "Epoch 28/30\n",
            "1563/1563 [==============================] - 132s 84ms/step - loss: 0.3345 - accuracy: 0.8837 - val_loss: 1.0418 - val_accuracy: 0.7359\n",
            "Epoch 29/30\n",
            "1563/1563 [==============================] - 132s 84ms/step - loss: 0.3373 - accuracy: 0.8836 - val_loss: 1.0906 - val_accuracy: 0.7325\n",
            "Epoch 30/30\n",
            "1563/1563 [==============================] - 131s 84ms/step - loss: 0.3315 - accuracy: 0.8866 - val_loss: 1.0756 - val_accuracy: 0.7283\n"
          ],
          "name": "stdout"
        }
      ]
    },
    {
      "cell_type": "markdown",
      "metadata": {
        "id": "JI7McoveijUx",
        "colab_type": "text"
      },
      "source": [
        "### On sauvegarde le modèle"
      ]
    },
    {
      "cell_type": "code",
      "metadata": {
        "id": "mWVK2bREimnV",
        "colab_type": "code",
        "colab": {}
      },
      "source": [
        "model2.save('cifar10_model2_20200401_a.h5')"
      ],
      "execution_count": 0,
      "outputs": []
    },
    {
      "cell_type": "code",
      "metadata": {
        "id": "EGWMbYcVnkfI",
        "colab_type": "code",
        "colab": {}
      },
      "source": [
        "cp -r cifar10_model2_20200401_a.h5 drive/My\\ Drive/eval_ia/."
      ],
      "execution_count": 0,
      "outputs": []
    },
    {
      "cell_type": "markdown",
      "metadata": {
        "id": "koPCh_7h5lDW",
        "colab_type": "text"
      },
      "source": [
        "### On réessaye le même modèle sans dropout"
      ]
    },
    {
      "cell_type": "code",
      "metadata": {
        "id": "59DmOAoD5rsO",
        "colab_type": "code",
        "colab": {}
      },
      "source": [
        "model2b = models.Sequential()\n",
        "model2b.add(layers.Conv2D(32, (3, 3), activation='relu', input_shape=(32, 32, 3)))\n",
        "model2b.add(layers.MaxPooling2D((2, 2)))\n",
        "#model2b.add(layers.Dropout(0.25))\n",
        "model2b.add(layers.Conv2D(128, (3, 3), activation='relu'))\n",
        "model2b.add(layers.MaxPooling2D((2, 2)))\n",
        "#model2b.add(layers.Dropout(0.25))\n",
        "model2b.add(layers.Conv2D(128, (3, 3), activation='relu'))"
      ],
      "execution_count": 0,
      "outputs": []
    },
    {
      "cell_type": "code",
      "metadata": {
        "id": "yStgp7J251HT",
        "colab_type": "code",
        "colab": {}
      },
      "source": [
        "model2b.add(layers.Flatten())\n",
        "model2b.add(layers.Dense(512, activation='relu'))\n",
        "#model2b.add(layers.Dropout(0.25))\n",
        "model2b.add(layers.Dense(10))"
      ],
      "execution_count": 0,
      "outputs": []
    },
    {
      "cell_type": "code",
      "metadata": {
        "id": "M_pcqtJK6BGt",
        "colab_type": "code",
        "colab": {}
      },
      "source": [
        "model2b.compile(optimizer='adam',\n",
        "              loss=tf.keras.losses.SparseCategoricalCrossentropy(from_logits=True),\n",
        "              metrics=['accuracy'])\n",
        "\n",
        "history2b = model2b.fit(train_images, train_labels, epochs=30, \n",
        "                    validation_data=(test_images, test_labels))"
      ],
      "execution_count": 0,
      "outputs": []
    },
    {
      "cell_type": "markdown",
      "metadata": {
        "id": "j9cRlyKsVo_p",
        "colab_type": "text"
      },
      "source": [
        "## Modèle 3 : modèle non convolutionnaire"
      ]
    },
    {
      "cell_type": "markdown",
      "metadata": {
        "id": "m1INquuuseR8",
        "colab_type": "text"
      },
      "source": [
        "### On crée le modèle"
      ]
    },
    {
      "cell_type": "code",
      "metadata": {
        "id": "w70ds3Wns9YB",
        "colab_type": "code",
        "colab": {}
      },
      "source": [
        "model3 = models.Sequential()\n",
        "model3.add(layers.Flatten(input_shape=(32, 32, 3))),\n",
        "model3.add(layers.Dense(32, activation='relu')),\n",
        "model3.add(layers.Dense(32, activation='relu')),\n",
        "model3.add(layers.Dense(10))"
      ],
      "execution_count": 0,
      "outputs": []
    },
    {
      "cell_type": "markdown",
      "metadata": {
        "id": "NoBI2ryQse0W",
        "colab_type": "text"
      },
      "source": [
        "### On compile et entraîne le modèle"
      ]
    },
    {
      "cell_type": "code",
      "metadata": {
        "id": "mbI6nTd4tQmn",
        "colab_type": "code",
        "outputId": "d8cf42c4-eba2-4d18-e532-8fbd8d35e11a",
        "colab": {
          "base_uri": "https://localhost:8080/",
          "height": 1000
        }
      },
      "source": [
        "loss_fn = tf.keras.losses.SparseCategoricalCrossentropy(from_logits=True)\n",
        "model3.compile(optimizer='adam',\n",
        "              loss=loss_fn,\n",
        "              metrics=['accuracy'])\n",
        "history3 = model3.fit(train_images, train_labels, epochs=30, \n",
        "                    validation_data=(test_images, test_labels))"
      ],
      "execution_count": 80,
      "outputs": [
        {
          "output_type": "stream",
          "text": [
            "Epoch 1/30\n",
            "1563/1563 [==============================] - 5s 3ms/step - loss: 2.0946 - accuracy: 0.1823 - val_loss: 2.0409 - val_accuracy: 0.1956\n",
            "Epoch 2/30\n",
            "1563/1563 [==============================] - 4s 3ms/step - loss: 2.0475 - accuracy: 0.1932 - val_loss: 2.0324 - val_accuracy: 0.1954\n",
            "Epoch 3/30\n",
            "1563/1563 [==============================] - 4s 3ms/step - loss: 2.0360 - accuracy: 0.1961 - val_loss: 2.0068 - val_accuracy: 0.2088\n",
            "Epoch 4/30\n",
            "1563/1563 [==============================] - 4s 3ms/step - loss: 1.9946 - accuracy: 0.2262 - val_loss: 1.9631 - val_accuracy: 0.2412\n",
            "Epoch 5/30\n",
            "1563/1563 [==============================] - 4s 3ms/step - loss: 1.9384 - accuracy: 0.2576 - val_loss: 1.9375 - val_accuracy: 0.2617\n",
            "Epoch 6/30\n",
            "1563/1563 [==============================] - 4s 3ms/step - loss: 1.9258 - accuracy: 0.2658 - val_loss: 1.9242 - val_accuracy: 0.2664\n",
            "Epoch 7/30\n",
            "1563/1563 [==============================] - 4s 3ms/step - loss: 1.9199 - accuracy: 0.2672 - val_loss: 1.9185 - val_accuracy: 0.2706\n",
            "Epoch 8/30\n",
            "1563/1563 [==============================] - 4s 3ms/step - loss: 1.9165 - accuracy: 0.2691 - val_loss: 1.9021 - val_accuracy: 0.2729\n",
            "Epoch 9/30\n",
            "1563/1563 [==============================] - 4s 3ms/step - loss: 1.9142 - accuracy: 0.2683 - val_loss: 1.9197 - val_accuracy: 0.2673\n",
            "Epoch 10/30\n",
            "1563/1563 [==============================] - 4s 3ms/step - loss: 1.9153 - accuracy: 0.2684 - val_loss: 1.8994 - val_accuracy: 0.2783\n",
            "Epoch 11/30\n",
            "1563/1563 [==============================] - 4s 3ms/step - loss: 1.9104 - accuracy: 0.2714 - val_loss: 1.8956 - val_accuracy: 0.2791\n",
            "Epoch 12/30\n",
            "1563/1563 [==============================] - 4s 3ms/step - loss: 1.9086 - accuracy: 0.2715 - val_loss: 1.9579 - val_accuracy: 0.2575\n",
            "Epoch 13/30\n",
            "1563/1563 [==============================] - 4s 3ms/step - loss: 1.9073 - accuracy: 0.2734 - val_loss: 1.8943 - val_accuracy: 0.2760\n",
            "Epoch 14/30\n",
            "1563/1563 [==============================] - 4s 3ms/step - loss: 1.9050 - accuracy: 0.2698 - val_loss: 1.9183 - val_accuracy: 0.2646\n",
            "Epoch 15/30\n",
            "1563/1563 [==============================] - 4s 3ms/step - loss: 1.9056 - accuracy: 0.2730 - val_loss: 1.8917 - val_accuracy: 0.2784\n",
            "Epoch 16/30\n",
            "1563/1563 [==============================] - 4s 3ms/step - loss: 1.9041 - accuracy: 0.2730 - val_loss: 1.9010 - val_accuracy: 0.2782\n",
            "Epoch 17/30\n",
            "1563/1563 [==============================] - 4s 3ms/step - loss: 1.9029 - accuracy: 0.2717 - val_loss: 1.9077 - val_accuracy: 0.2680\n",
            "Epoch 18/30\n",
            "1563/1563 [==============================] - 4s 3ms/step - loss: 1.9010 - accuracy: 0.2742 - val_loss: 1.8927 - val_accuracy: 0.2800\n",
            "Epoch 19/30\n",
            "1563/1563 [==============================] - 4s 3ms/step - loss: 1.9000 - accuracy: 0.2778 - val_loss: 1.8963 - val_accuracy: 0.2723\n",
            "Epoch 20/30\n",
            "1563/1563 [==============================] - 4s 3ms/step - loss: 1.8981 - accuracy: 0.2759 - val_loss: 1.9259 - val_accuracy: 0.2663\n",
            "Epoch 21/30\n",
            "1563/1563 [==============================] - 4s 3ms/step - loss: 1.9020 - accuracy: 0.2735 - val_loss: 1.8973 - val_accuracy: 0.2722\n",
            "Epoch 22/30\n",
            "1563/1563 [==============================] - 4s 3ms/step - loss: 1.8978 - accuracy: 0.2757 - val_loss: 1.8912 - val_accuracy: 0.2765\n",
            "Epoch 23/30\n",
            "1563/1563 [==============================] - 4s 3ms/step - loss: 1.8967 - accuracy: 0.2741 - val_loss: 1.9316 - val_accuracy: 0.2624\n",
            "Epoch 24/30\n",
            "1563/1563 [==============================] - 4s 3ms/step - loss: 1.8982 - accuracy: 0.2764 - val_loss: 1.8915 - val_accuracy: 0.2779\n",
            "Epoch 25/30\n",
            "1563/1563 [==============================] - 4s 3ms/step - loss: 1.8985 - accuracy: 0.2744 - val_loss: 1.8933 - val_accuracy: 0.2738\n",
            "Epoch 26/30\n",
            "1563/1563 [==============================] - 4s 3ms/step - loss: 1.8962 - accuracy: 0.2772 - val_loss: 1.8973 - val_accuracy: 0.2679\n",
            "Epoch 27/30\n",
            "1563/1563 [==============================] - 4s 3ms/step - loss: 1.8956 - accuracy: 0.2749 - val_loss: 1.8924 - val_accuracy: 0.2793\n",
            "Epoch 28/30\n",
            "1563/1563 [==============================] - 4s 3ms/step - loss: 1.8977 - accuracy: 0.2739 - val_loss: 1.8984 - val_accuracy: 0.2754\n",
            "Epoch 29/30\n",
            "1563/1563 [==============================] - 4s 3ms/step - loss: 1.8954 - accuracy: 0.2764 - val_loss: 1.8915 - val_accuracy: 0.2733\n",
            "Epoch 30/30\n",
            "1563/1563 [==============================] - 4s 3ms/step - loss: 1.8937 - accuracy: 0.2769 - val_loss: 1.8843 - val_accuracy: 0.2822\n"
          ],
          "name": "stdout"
        }
      ]
    },
    {
      "cell_type": "markdown",
      "metadata": {
        "id": "vbw8N16JuETU",
        "colab_type": "text"
      },
      "source": [
        "### On sauvegarde le modèle"
      ]
    },
    {
      "cell_type": "code",
      "metadata": {
        "id": "0SBNy6-euGLQ",
        "colab_type": "code",
        "outputId": "3d49c93e-08fd-4d40-89f2-dbf401e890c7",
        "colab": {
          "base_uri": "https://localhost:8080/",
          "height": 34
        }
      },
      "source": [
        "model3.save('cifar10_model3_20200401_a.h5')"
      ],
      "execution_count": 0,
      "outputs": [
        {
          "output_type": "stream",
          "text": [
            "INFO:tensorflow:Assets written to: cifar10_model3.hd5/assets\n"
          ],
          "name": "stdout"
        }
      ]
    },
    {
      "cell_type": "code",
      "metadata": {
        "id": "uWYVPK8QuUGy",
        "colab_type": "code",
        "colab": {}
      },
      "source": [
        "cp -r cifar10_model3.hd5 drive/My\\ Drive/eval_ia/."
      ],
      "execution_count": 0,
      "outputs": []
    },
    {
      "cell_type": "markdown",
      "metadata": {
        "id": "GuI4Nyopwxg2",
        "colab_type": "text"
      },
      "source": [
        "## On évalue les trois modèles"
      ]
    },
    {
      "cell_type": "code",
      "metadata": {
        "id": "QpQP6fA2w3x2",
        "colab_type": "code",
        "outputId": "3753220e-d886-4d65-8867-f2e214ae514a",
        "colab": {
          "base_uri": "https://localhost:8080/",
          "height": 34
        }
      },
      "source": [
        "predictions = model3.predict(test_images)\n",
        "\n",
        "pred = np.argmax(predictions, axis=1)\n",
        "pred"
      ],
      "execution_count": 0,
      "outputs": [
        {
          "output_type": "execute_result",
          "data": {
            "text/plain": [
              "array([3, 8, 8, ..., 3, 6, 7])"
            ]
          },
          "metadata": {
            "tags": []
          },
          "execution_count": 27
        }
      ]
    },
    {
      "cell_type": "code",
      "metadata": {
        "id": "ZqNv2iecxDZW",
        "colab_type": "code",
        "outputId": "cbc4af5d-2620-43ea-da52-bb56b4a47d61",
        "colab": {
          "base_uri": "https://localhost:8080/",
          "height": 394
        }
      },
      "source": [
        "df = pd.DataFrame({ 'actual': test_labels[:,0], 'predicted': pred } )\n",
        "df['res'] = df['actual'] == df['predicted']\n",
        "a = df.groupby(['actual','res']).count()\n",
        "b = a.groupby(level=0).apply(lambda x: 100 * x / float(x.sum()))\n",
        "b[b.index.get_level_values('res') == False]"
      ],
      "execution_count": 0,
      "outputs": [
        {
          "output_type": "execute_result",
          "data": {
            "text/html": [
              "<div>\n",
              "<style scoped>\n",
              "    .dataframe tbody tr th:only-of-type {\n",
              "        vertical-align: middle;\n",
              "    }\n",
              "\n",
              "    .dataframe tbody tr th {\n",
              "        vertical-align: top;\n",
              "    }\n",
              "\n",
              "    .dataframe thead th {\n",
              "        text-align: right;\n",
              "    }\n",
              "</style>\n",
              "<table border=\"1\" class=\"dataframe\">\n",
              "  <thead>\n",
              "    <tr style=\"text-align: right;\">\n",
              "      <th></th>\n",
              "      <th></th>\n",
              "      <th>predicted</th>\n",
              "    </tr>\n",
              "    <tr>\n",
              "      <th>actual</th>\n",
              "      <th>res</th>\n",
              "      <th></th>\n",
              "    </tr>\n",
              "  </thead>\n",
              "  <tbody>\n",
              "    <tr>\n",
              "      <th>0</th>\n",
              "      <th>False</th>\n",
              "      <td>55.5</td>\n",
              "    </tr>\n",
              "    <tr>\n",
              "      <th>1</th>\n",
              "      <th>False</th>\n",
              "      <td>58.6</td>\n",
              "    </tr>\n",
              "    <tr>\n",
              "      <th>2</th>\n",
              "      <th>False</th>\n",
              "      <td>82.8</td>\n",
              "    </tr>\n",
              "    <tr>\n",
              "      <th>3</th>\n",
              "      <th>False</th>\n",
              "      <td>69.8</td>\n",
              "    </tr>\n",
              "    <tr>\n",
              "      <th>4</th>\n",
              "      <th>False</th>\n",
              "      <td>75.5</td>\n",
              "    </tr>\n",
              "    <tr>\n",
              "      <th>5</th>\n",
              "      <th>False</th>\n",
              "      <td>79.1</td>\n",
              "    </tr>\n",
              "    <tr>\n",
              "      <th>6</th>\n",
              "      <th>False</th>\n",
              "      <td>47.0</td>\n",
              "    </tr>\n",
              "    <tr>\n",
              "      <th>7</th>\n",
              "      <th>False</th>\n",
              "      <td>43.3</td>\n",
              "    </tr>\n",
              "    <tr>\n",
              "      <th>8</th>\n",
              "      <th>False</th>\n",
              "      <td>43.9</td>\n",
              "    </tr>\n",
              "    <tr>\n",
              "      <th>9</th>\n",
              "      <th>False</th>\n",
              "      <td>49.1</td>\n",
              "    </tr>\n",
              "  </tbody>\n",
              "</table>\n",
              "</div>"
            ],
            "text/plain": [
              "              predicted\n",
              "actual res             \n",
              "0      False       55.5\n",
              "1      False       58.6\n",
              "2      False       82.8\n",
              "3      False       69.8\n",
              "4      False       75.5\n",
              "5      False       79.1\n",
              "6      False       47.0\n",
              "7      False       43.3\n",
              "8      False       43.9\n",
              "9      False       49.1"
            ]
          },
          "metadata": {
            "tags": []
          },
          "execution_count": 28
        }
      ]
    },
    {
      "cell_type": "markdown",
      "metadata": {
        "id": "TKxkfDvfdz5M",
        "colab_type": "text"
      },
      "source": [
        "\"In summary, acc is the accuracy of a batch of training data and val_acc is the accuracy of a batch of testing data.\" (Internet)\n",
        "c'est val_acc qui est le plus important.\n",
        "\n",
        "Pbtique de l'overfitting => mémorisation des données d'entraînement, mais pas capable de mémoriser\n",
        "\n",
        "changer la structure ?\n",
        "\n",
        "Cela correspond à une sur-entrainement qui aboutit à une sorte de mémorisation des données d'entrainement sans capacité à généraliser\n",
        "\n",
        "dans l'entrainement, les démarches sont accumulatives, améliorant énormément la performance, mais le modele dans ce cas là dépend largement les données entraînées, en cas de changement de données, le modèle ne serait pas aussi performant\n",
        "\n",
        "attention notamment à si on augmente le nb d'epoch\n",
        "\n",
        "\n",
        "\n",
        "petit conseil: network.add(layers.Dropout(rate=0.25)) # to prevent the overfitting\n",
        "\n",
        "Cela permet un arret automatique à partir du moment que le décalage entre acc et val_acc depasse le rate de 0.25\n",
        "\n",
        "c'est plutôt répétitif, après chaque sous-structure, surtout après conv2D"
      ]
    },
    {
      "cell_type": "code",
      "metadata": {
        "id": "AhlzTeOcXWyI",
        "colab_type": "code",
        "outputId": "58e617df-ac18-4b03-84a5-99097f2e3225",
        "colab": {
          "base_uri": "https://localhost:8080/",
          "height": 34
        }
      },
      "source": [
        "predictions = model.predict(test_images)\n",
        "\n",
        "pred = np.argmax(predictions, axis=1)\n",
        "pred"
      ],
      "execution_count": 0,
      "outputs": [
        {
          "output_type": "execute_result",
          "data": {
            "text/plain": [
              "array([3, 8, 8, ..., 5, 4, 7])"
            ]
          },
          "metadata": {
            "tags": []
          },
          "execution_count": 11
        }
      ]
    },
    {
      "cell_type": "code",
      "metadata": {
        "id": "aafGDeVMbLDd",
        "colab_type": "code",
        "outputId": "81da1cef-b042-46c7-c121-52fbeaa47c6a",
        "colab": {
          "base_uri": "https://localhost:8080/",
          "height": 52
        }
      },
      "source": [
        "print(class_names[np.argmax(predictions[1])])\n",
        "print(class_names[test_labels[1, 0]])"
      ],
      "execution_count": 0,
      "outputs": [
        {
          "output_type": "stream",
          "text": [
            "ship\n",
            "ship\n"
          ],
          "name": "stdout"
        }
      ]
    },
    {
      "cell_type": "code",
      "metadata": {
        "id": "ZmQrCE7_eK6v",
        "colab_type": "code",
        "outputId": "b0652bba-f24e-4ec9-ce97-9dc07c1f8766",
        "colab": {
          "base_uri": "https://localhost:8080/",
          "height": 394
        }
      },
      "source": [
        "df = pd.DataFrame({ 'actual': test_labels[:,0], 'predicted': pred } )\n",
        "df['res'] = df['actual'] == df['predicted']\n",
        "a = df.groupby(['actual','res']).count()\n",
        "b = a.groupby(level=0).apply(lambda x: 100 * x / float(x.sum()))\n",
        "b[b.index.get_level_values('res') == False]"
      ],
      "execution_count": 0,
      "outputs": [
        {
          "output_type": "execute_result",
          "data": {
            "text/html": [
              "<div>\n",
              "<style scoped>\n",
              "    .dataframe tbody tr th:only-of-type {\n",
              "        vertical-align: middle;\n",
              "    }\n",
              "\n",
              "    .dataframe tbody tr th {\n",
              "        vertical-align: top;\n",
              "    }\n",
              "\n",
              "    .dataframe thead th {\n",
              "        text-align: right;\n",
              "    }\n",
              "</style>\n",
              "<table border=\"1\" class=\"dataframe\">\n",
              "  <thead>\n",
              "    <tr style=\"text-align: right;\">\n",
              "      <th></th>\n",
              "      <th></th>\n",
              "      <th>predicted</th>\n",
              "    </tr>\n",
              "    <tr>\n",
              "      <th>actual</th>\n",
              "      <th>res</th>\n",
              "      <th></th>\n",
              "    </tr>\n",
              "  </thead>\n",
              "  <tbody>\n",
              "    <tr>\n",
              "      <th>0</th>\n",
              "      <th>False</th>\n",
              "      <td>27.4</td>\n",
              "    </tr>\n",
              "    <tr>\n",
              "      <th>1</th>\n",
              "      <th>False</th>\n",
              "      <td>24.1</td>\n",
              "    </tr>\n",
              "    <tr>\n",
              "      <th>2</th>\n",
              "      <th>False</th>\n",
              "      <td>43.1</td>\n",
              "    </tr>\n",
              "    <tr>\n",
              "      <th>3</th>\n",
              "      <th>False</th>\n",
              "      <td>37.1</td>\n",
              "    </tr>\n",
              "    <tr>\n",
              "      <th>4</th>\n",
              "      <th>False</th>\n",
              "      <td>25.5</td>\n",
              "    </tr>\n",
              "    <tr>\n",
              "      <th>5</th>\n",
              "      <th>False</th>\n",
              "      <td>47.3</td>\n",
              "    </tr>\n",
              "    <tr>\n",
              "      <th>6</th>\n",
              "      <th>False</th>\n",
              "      <td>17.7</td>\n",
              "    </tr>\n",
              "    <tr>\n",
              "      <th>7</th>\n",
              "      <th>False</th>\n",
              "      <td>32.8</td>\n",
              "    </tr>\n",
              "    <tr>\n",
              "      <th>8</th>\n",
              "      <th>False</th>\n",
              "      <td>22.4</td>\n",
              "    </tr>\n",
              "    <tr>\n",
              "      <th>9</th>\n",
              "      <th>False</th>\n",
              "      <td>28.9</td>\n",
              "    </tr>\n",
              "  </tbody>\n",
              "</table>\n",
              "</div>"
            ],
            "text/plain": [
              "              predicted\n",
              "actual res             \n",
              "0      False       27.4\n",
              "1      False       24.1\n",
              "2      False       43.1\n",
              "3      False       37.1\n",
              "4      False       25.5\n",
              "5      False       47.3\n",
              "6      False       17.7\n",
              "7      False       32.8\n",
              "8      False       22.4\n",
              "9      False       28.9"
            ]
          },
          "metadata": {
            "tags": []
          },
          "execution_count": 43
        }
      ]
    },
    {
      "cell_type": "code",
      "metadata": {
        "id": "DG6H8I0GiLvW",
        "colab_type": "code",
        "outputId": "650b9494-9214-4140-d41f-429772fbee5e",
        "colab": {
          "base_uri": "https://localhost:8080/",
          "height": 363
        }
      },
      "source": [
        "cm = confusion_matrix(test_labels[:,0], pred)\n",
        "pd.DataFrame(cm, index=class_names, columns=class_names)"
      ],
      "execution_count": 0,
      "outputs": [
        {
          "output_type": "execute_result",
          "data": {
            "text/html": [
              "<div>\n",
              "<style scoped>\n",
              "    .dataframe tbody tr th:only-of-type {\n",
              "        vertical-align: middle;\n",
              "    }\n",
              "\n",
              "    .dataframe tbody tr th {\n",
              "        vertical-align: top;\n",
              "    }\n",
              "\n",
              "    .dataframe thead th {\n",
              "        text-align: right;\n",
              "    }\n",
              "</style>\n",
              "<table border=\"1\" class=\"dataframe\">\n",
              "  <thead>\n",
              "    <tr style=\"text-align: right;\">\n",
              "      <th></th>\n",
              "      <th>airplane</th>\n",
              "      <th>automobile</th>\n",
              "      <th>bird</th>\n",
              "      <th>cat</th>\n",
              "      <th>deer</th>\n",
              "      <th>dog</th>\n",
              "      <th>frog</th>\n",
              "      <th>horse</th>\n",
              "      <th>ship</th>\n",
              "      <th>truck</th>\n",
              "    </tr>\n",
              "  </thead>\n",
              "  <tbody>\n",
              "    <tr>\n",
              "      <th>airplane</th>\n",
              "      <td>726</td>\n",
              "      <td>14</td>\n",
              "      <td>58</td>\n",
              "      <td>48</td>\n",
              "      <td>39</td>\n",
              "      <td>9</td>\n",
              "      <td>10</td>\n",
              "      <td>14</td>\n",
              "      <td>56</td>\n",
              "      <td>26</td>\n",
              "    </tr>\n",
              "    <tr>\n",
              "      <th>automobile</th>\n",
              "      <td>31</td>\n",
              "      <td>759</td>\n",
              "      <td>15</td>\n",
              "      <td>33</td>\n",
              "      <td>11</td>\n",
              "      <td>7</td>\n",
              "      <td>33</td>\n",
              "      <td>3</td>\n",
              "      <td>38</td>\n",
              "      <td>70</td>\n",
              "    </tr>\n",
              "    <tr>\n",
              "      <th>bird</th>\n",
              "      <td>41</td>\n",
              "      <td>1</td>\n",
              "      <td>569</td>\n",
              "      <td>101</td>\n",
              "      <td>113</td>\n",
              "      <td>66</td>\n",
              "      <td>73</td>\n",
              "      <td>30</td>\n",
              "      <td>5</td>\n",
              "      <td>1</td>\n",
              "    </tr>\n",
              "    <tr>\n",
              "      <th>cat</th>\n",
              "      <td>13</td>\n",
              "      <td>2</td>\n",
              "      <td>44</td>\n",
              "      <td>629</td>\n",
              "      <td>72</td>\n",
              "      <td>124</td>\n",
              "      <td>84</td>\n",
              "      <td>23</td>\n",
              "      <td>6</td>\n",
              "      <td>3</td>\n",
              "    </tr>\n",
              "    <tr>\n",
              "      <th>deer</th>\n",
              "      <td>7</td>\n",
              "      <td>2</td>\n",
              "      <td>60</td>\n",
              "      <td>81</td>\n",
              "      <td>745</td>\n",
              "      <td>24</td>\n",
              "      <td>52</td>\n",
              "      <td>25</td>\n",
              "      <td>2</td>\n",
              "      <td>2</td>\n",
              "    </tr>\n",
              "    <tr>\n",
              "      <th>dog</th>\n",
              "      <td>8</td>\n",
              "      <td>1</td>\n",
              "      <td>51</td>\n",
              "      <td>287</td>\n",
              "      <td>53</td>\n",
              "      <td>527</td>\n",
              "      <td>37</td>\n",
              "      <td>33</td>\n",
              "      <td>2</td>\n",
              "      <td>1</td>\n",
              "    </tr>\n",
              "    <tr>\n",
              "      <th>frog</th>\n",
              "      <td>2</td>\n",
              "      <td>1</td>\n",
              "      <td>40</td>\n",
              "      <td>73</td>\n",
              "      <td>38</td>\n",
              "      <td>14</td>\n",
              "      <td>823</td>\n",
              "      <td>5</td>\n",
              "      <td>4</td>\n",
              "      <td>0</td>\n",
              "    </tr>\n",
              "    <tr>\n",
              "      <th>horse</th>\n",
              "      <td>13</td>\n",
              "      <td>2</td>\n",
              "      <td>32</td>\n",
              "      <td>73</td>\n",
              "      <td>127</td>\n",
              "      <td>65</td>\n",
              "      <td>12</td>\n",
              "      <td>672</td>\n",
              "      <td>2</td>\n",
              "      <td>2</td>\n",
              "    </tr>\n",
              "    <tr>\n",
              "      <th>ship</th>\n",
              "      <td>68</td>\n",
              "      <td>20</td>\n",
              "      <td>25</td>\n",
              "      <td>43</td>\n",
              "      <td>25</td>\n",
              "      <td>9</td>\n",
              "      <td>14</td>\n",
              "      <td>2</td>\n",
              "      <td>776</td>\n",
              "      <td>18</td>\n",
              "    </tr>\n",
              "    <tr>\n",
              "      <th>truck</th>\n",
              "      <td>36</td>\n",
              "      <td>65</td>\n",
              "      <td>14</td>\n",
              "      <td>59</td>\n",
              "      <td>18</td>\n",
              "      <td>6</td>\n",
              "      <td>34</td>\n",
              "      <td>22</td>\n",
              "      <td>35</td>\n",
              "      <td>711</td>\n",
              "    </tr>\n",
              "  </tbody>\n",
              "</table>\n",
              "</div>"
            ],
            "text/plain": [
              "            airplane  automobile  bird  cat  ...  frog  horse  ship  truck\n",
              "airplane         726          14    58   48  ...    10     14    56     26\n",
              "automobile        31         759    15   33  ...    33      3    38     70\n",
              "bird              41           1   569  101  ...    73     30     5      1\n",
              "cat               13           2    44  629  ...    84     23     6      3\n",
              "deer               7           2    60   81  ...    52     25     2      2\n",
              "dog                8           1    51  287  ...    37     33     2      1\n",
              "frog               2           1    40   73  ...   823      5     4      0\n",
              "horse             13           2    32   73  ...    12    672     2      2\n",
              "ship              68          20    25   43  ...    14      2   776     18\n",
              "truck             36          65    14   59  ...    34     22    35    711\n",
              "\n",
              "[10 rows x 10 columns]"
            ]
          },
          "metadata": {
            "tags": []
          },
          "execution_count": 36
        }
      ]
    },
    {
      "cell_type": "code",
      "metadata": {
        "id": "05A12ie2Xn3K",
        "colab_type": "code",
        "outputId": "b2e007ee-9419-402c-a846-1b3eb7aa0ed1",
        "colab": {
          "base_uri": "https://localhost:8080/",
          "height": 363
        }
      },
      "source": [
        "cm_nor_l = np.around(confusion_matrix(test_labels[:,0], pred, normalize='true') * 100, 0).astype(int) # en lignes\n",
        "pd.DataFrame(cm_nor_l, index=class_names, columns=class_names)"
      ],
      "execution_count": 0,
      "outputs": [
        {
          "output_type": "execute_result",
          "data": {
            "text/html": [
              "<div>\n",
              "<style scoped>\n",
              "    .dataframe tbody tr th:only-of-type {\n",
              "        vertical-align: middle;\n",
              "    }\n",
              "\n",
              "    .dataframe tbody tr th {\n",
              "        vertical-align: top;\n",
              "    }\n",
              "\n",
              "    .dataframe thead th {\n",
              "        text-align: right;\n",
              "    }\n",
              "</style>\n",
              "<table border=\"1\" class=\"dataframe\">\n",
              "  <thead>\n",
              "    <tr style=\"text-align: right;\">\n",
              "      <th></th>\n",
              "      <th>airplane</th>\n",
              "      <th>automobile</th>\n",
              "      <th>bird</th>\n",
              "      <th>cat</th>\n",
              "      <th>deer</th>\n",
              "      <th>dog</th>\n",
              "      <th>frog</th>\n",
              "      <th>horse</th>\n",
              "      <th>ship</th>\n",
              "      <th>truck</th>\n",
              "    </tr>\n",
              "  </thead>\n",
              "  <tbody>\n",
              "    <tr>\n",
              "      <th>airplane</th>\n",
              "      <td>73</td>\n",
              "      <td>1</td>\n",
              "      <td>6</td>\n",
              "      <td>5</td>\n",
              "      <td>4</td>\n",
              "      <td>1</td>\n",
              "      <td>1</td>\n",
              "      <td>1</td>\n",
              "      <td>6</td>\n",
              "      <td>3</td>\n",
              "    </tr>\n",
              "    <tr>\n",
              "      <th>automobile</th>\n",
              "      <td>3</td>\n",
              "      <td>76</td>\n",
              "      <td>2</td>\n",
              "      <td>3</td>\n",
              "      <td>1</td>\n",
              "      <td>1</td>\n",
              "      <td>3</td>\n",
              "      <td>0</td>\n",
              "      <td>4</td>\n",
              "      <td>7</td>\n",
              "    </tr>\n",
              "    <tr>\n",
              "      <th>bird</th>\n",
              "      <td>4</td>\n",
              "      <td>0</td>\n",
              "      <td>57</td>\n",
              "      <td>10</td>\n",
              "      <td>11</td>\n",
              "      <td>7</td>\n",
              "      <td>7</td>\n",
              "      <td>3</td>\n",
              "      <td>0</td>\n",
              "      <td>0</td>\n",
              "    </tr>\n",
              "    <tr>\n",
              "      <th>cat</th>\n",
              "      <td>1</td>\n",
              "      <td>0</td>\n",
              "      <td>4</td>\n",
              "      <td>63</td>\n",
              "      <td>7</td>\n",
              "      <td>12</td>\n",
              "      <td>8</td>\n",
              "      <td>2</td>\n",
              "      <td>1</td>\n",
              "      <td>0</td>\n",
              "    </tr>\n",
              "    <tr>\n",
              "      <th>deer</th>\n",
              "      <td>1</td>\n",
              "      <td>0</td>\n",
              "      <td>6</td>\n",
              "      <td>8</td>\n",
              "      <td>74</td>\n",
              "      <td>2</td>\n",
              "      <td>5</td>\n",
              "      <td>2</td>\n",
              "      <td>0</td>\n",
              "      <td>0</td>\n",
              "    </tr>\n",
              "    <tr>\n",
              "      <th>dog</th>\n",
              "      <td>1</td>\n",
              "      <td>0</td>\n",
              "      <td>5</td>\n",
              "      <td>29</td>\n",
              "      <td>5</td>\n",
              "      <td>53</td>\n",
              "      <td>4</td>\n",
              "      <td>3</td>\n",
              "      <td>0</td>\n",
              "      <td>0</td>\n",
              "    </tr>\n",
              "    <tr>\n",
              "      <th>frog</th>\n",
              "      <td>0</td>\n",
              "      <td>0</td>\n",
              "      <td>4</td>\n",
              "      <td>7</td>\n",
              "      <td>4</td>\n",
              "      <td>1</td>\n",
              "      <td>82</td>\n",
              "      <td>0</td>\n",
              "      <td>0</td>\n",
              "      <td>0</td>\n",
              "    </tr>\n",
              "    <tr>\n",
              "      <th>horse</th>\n",
              "      <td>1</td>\n",
              "      <td>0</td>\n",
              "      <td>3</td>\n",
              "      <td>7</td>\n",
              "      <td>13</td>\n",
              "      <td>6</td>\n",
              "      <td>1</td>\n",
              "      <td>67</td>\n",
              "      <td>0</td>\n",
              "      <td>0</td>\n",
              "    </tr>\n",
              "    <tr>\n",
              "      <th>ship</th>\n",
              "      <td>7</td>\n",
              "      <td>2</td>\n",
              "      <td>2</td>\n",
              "      <td>4</td>\n",
              "      <td>2</td>\n",
              "      <td>1</td>\n",
              "      <td>1</td>\n",
              "      <td>0</td>\n",
              "      <td>78</td>\n",
              "      <td>2</td>\n",
              "    </tr>\n",
              "    <tr>\n",
              "      <th>truck</th>\n",
              "      <td>4</td>\n",
              "      <td>6</td>\n",
              "      <td>1</td>\n",
              "      <td>6</td>\n",
              "      <td>2</td>\n",
              "      <td>1</td>\n",
              "      <td>3</td>\n",
              "      <td>2</td>\n",
              "      <td>4</td>\n",
              "      <td>71</td>\n",
              "    </tr>\n",
              "  </tbody>\n",
              "</table>\n",
              "</div>"
            ],
            "text/plain": [
              "            airplane  automobile  bird  cat  ...  frog  horse  ship  truck\n",
              "airplane          73           1     6    5  ...     1      1     6      3\n",
              "automobile         3          76     2    3  ...     3      0     4      7\n",
              "bird               4           0    57   10  ...     7      3     0      0\n",
              "cat                1           0     4   63  ...     8      2     1      0\n",
              "deer               1           0     6    8  ...     5      2     0      0\n",
              "dog                1           0     5   29  ...     4      3     0      0\n",
              "frog               0           0     4    7  ...    82      0     0      0\n",
              "horse              1           0     3    7  ...     1     67     0      0\n",
              "ship               7           2     2    4  ...     1      0    78      2\n",
              "truck              4           6     1    6  ...     3      2     4     71\n",
              "\n",
              "[10 rows x 10 columns]"
            ]
          },
          "metadata": {
            "tags": []
          },
          "execution_count": 34
        }
      ]
    },
    {
      "cell_type": "code",
      "metadata": {
        "id": "RNB32f7zXomF",
        "colab_type": "code",
        "outputId": "ca4ebeb6-aa4c-428e-fdfe-f4babb2676c8",
        "colab": {
          "base_uri": "https://localhost:8080/",
          "height": 363
        }
      },
      "source": [
        "cm_nor_c = np.around(confusion_matrix(test_labels[:,0], pred, normalize='pred') * 100, 0).astype(int) # en colonnes\n",
        "pd.DataFrame(cm_nor_c, index=class_names, columns=class_names)"
      ],
      "execution_count": 0,
      "outputs": [
        {
          "output_type": "execute_result",
          "data": {
            "text/html": [
              "<div>\n",
              "<style scoped>\n",
              "    .dataframe tbody tr th:only-of-type {\n",
              "        vertical-align: middle;\n",
              "    }\n",
              "\n",
              "    .dataframe tbody tr th {\n",
              "        vertical-align: top;\n",
              "    }\n",
              "\n",
              "    .dataframe thead th {\n",
              "        text-align: right;\n",
              "    }\n",
              "</style>\n",
              "<table border=\"1\" class=\"dataframe\">\n",
              "  <thead>\n",
              "    <tr style=\"text-align: right;\">\n",
              "      <th></th>\n",
              "      <th>airplane</th>\n",
              "      <th>automobile</th>\n",
              "      <th>bird</th>\n",
              "      <th>cat</th>\n",
              "      <th>deer</th>\n",
              "      <th>dog</th>\n",
              "      <th>frog</th>\n",
              "      <th>horse</th>\n",
              "      <th>ship</th>\n",
              "      <th>truck</th>\n",
              "    </tr>\n",
              "  </thead>\n",
              "  <tbody>\n",
              "    <tr>\n",
              "      <th>airplane</th>\n",
              "      <td>77</td>\n",
              "      <td>2</td>\n",
              "      <td>6</td>\n",
              "      <td>3</td>\n",
              "      <td>3</td>\n",
              "      <td>1</td>\n",
              "      <td>1</td>\n",
              "      <td>2</td>\n",
              "      <td>6</td>\n",
              "      <td>3</td>\n",
              "    </tr>\n",
              "    <tr>\n",
              "      <th>automobile</th>\n",
              "      <td>3</td>\n",
              "      <td>88</td>\n",
              "      <td>2</td>\n",
              "      <td>2</td>\n",
              "      <td>1</td>\n",
              "      <td>1</td>\n",
              "      <td>3</td>\n",
              "      <td>0</td>\n",
              "      <td>4</td>\n",
              "      <td>8</td>\n",
              "    </tr>\n",
              "    <tr>\n",
              "      <th>bird</th>\n",
              "      <td>4</td>\n",
              "      <td>0</td>\n",
              "      <td>63</td>\n",
              "      <td>7</td>\n",
              "      <td>9</td>\n",
              "      <td>8</td>\n",
              "      <td>6</td>\n",
              "      <td>4</td>\n",
              "      <td>1</td>\n",
              "      <td>0</td>\n",
              "    </tr>\n",
              "    <tr>\n",
              "      <th>cat</th>\n",
              "      <td>1</td>\n",
              "      <td>0</td>\n",
              "      <td>5</td>\n",
              "      <td>44</td>\n",
              "      <td>6</td>\n",
              "      <td>15</td>\n",
              "      <td>7</td>\n",
              "      <td>3</td>\n",
              "      <td>1</td>\n",
              "      <td>0</td>\n",
              "    </tr>\n",
              "    <tr>\n",
              "      <th>deer</th>\n",
              "      <td>1</td>\n",
              "      <td>0</td>\n",
              "      <td>7</td>\n",
              "      <td>6</td>\n",
              "      <td>60</td>\n",
              "      <td>3</td>\n",
              "      <td>4</td>\n",
              "      <td>3</td>\n",
              "      <td>0</td>\n",
              "      <td>0</td>\n",
              "    </tr>\n",
              "    <tr>\n",
              "      <th>dog</th>\n",
              "      <td>1</td>\n",
              "      <td>0</td>\n",
              "      <td>6</td>\n",
              "      <td>20</td>\n",
              "      <td>4</td>\n",
              "      <td>62</td>\n",
              "      <td>3</td>\n",
              "      <td>4</td>\n",
              "      <td>0</td>\n",
              "      <td>0</td>\n",
              "    </tr>\n",
              "    <tr>\n",
              "      <th>frog</th>\n",
              "      <td>0</td>\n",
              "      <td>0</td>\n",
              "      <td>4</td>\n",
              "      <td>5</td>\n",
              "      <td>3</td>\n",
              "      <td>2</td>\n",
              "      <td>70</td>\n",
              "      <td>1</td>\n",
              "      <td>0</td>\n",
              "      <td>0</td>\n",
              "    </tr>\n",
              "    <tr>\n",
              "      <th>horse</th>\n",
              "      <td>1</td>\n",
              "      <td>0</td>\n",
              "      <td>4</td>\n",
              "      <td>5</td>\n",
              "      <td>10</td>\n",
              "      <td>8</td>\n",
              "      <td>1</td>\n",
              "      <td>81</td>\n",
              "      <td>0</td>\n",
              "      <td>0</td>\n",
              "    </tr>\n",
              "    <tr>\n",
              "      <th>ship</th>\n",
              "      <td>7</td>\n",
              "      <td>2</td>\n",
              "      <td>3</td>\n",
              "      <td>3</td>\n",
              "      <td>2</td>\n",
              "      <td>1</td>\n",
              "      <td>1</td>\n",
              "      <td>0</td>\n",
              "      <td>84</td>\n",
              "      <td>2</td>\n",
              "    </tr>\n",
              "    <tr>\n",
              "      <th>truck</th>\n",
              "      <td>4</td>\n",
              "      <td>7</td>\n",
              "      <td>2</td>\n",
              "      <td>4</td>\n",
              "      <td>1</td>\n",
              "      <td>1</td>\n",
              "      <td>3</td>\n",
              "      <td>3</td>\n",
              "      <td>4</td>\n",
              "      <td>85</td>\n",
              "    </tr>\n",
              "  </tbody>\n",
              "</table>\n",
              "</div>"
            ],
            "text/plain": [
              "            airplane  automobile  bird  cat  ...  frog  horse  ship  truck\n",
              "airplane          77           2     6    3  ...     1      2     6      3\n",
              "automobile         3          88     2    2  ...     3      0     4      8\n",
              "bird               4           0    63    7  ...     6      4     1      0\n",
              "cat                1           0     5   44  ...     7      3     1      0\n",
              "deer               1           0     7    6  ...     4      3     0      0\n",
              "dog                1           0     6   20  ...     3      4     0      0\n",
              "frog               0           0     4    5  ...    70      1     0      0\n",
              "horse              1           0     4    5  ...     1     81     0      0\n",
              "ship               7           2     3    3  ...     1      0    84      2\n",
              "truck              4           7     2    4  ...     3      3     4     85\n",
              "\n",
              "[10 rows x 10 columns]"
            ]
          },
          "metadata": {
            "tags": []
          },
          "execution_count": 35
        }
      ]
    },
    {
      "cell_type": "markdown",
      "metadata": {
        "id": "kqbGaegcoMhW",
        "colab_type": "text"
      },
      "source": [
        "### On compare les courbes de précision\n",
        "\n"
      ]
    },
    {
      "cell_type": "markdown",
      "metadata": {
        "id": "LAgBSwfTCEte",
        "colab_type": "text"
      },
      "source": [
        "#### Modèle 1"
      ]
    },
    {
      "cell_type": "code",
      "metadata": {
        "id": "Jgci2ERqCVDG",
        "colab_type": "code",
        "colab": {
          "base_uri": "https://localhost:8080/",
          "height": 34
        },
        "outputId": "0a59dfbc-eb13-47a4-daf3-8d3f8d80f7ca"
      },
      "source": [
        "test_loss, test_acc = model.evaluate(test_images,  test_labels, verbose=2)"
      ],
      "execution_count": 66,
      "outputs": [
        {
          "output_type": "stream",
          "text": [
            "313/313 - 4s - loss: 1.7405 - accuracy: 0.6843\n"
          ],
          "name": "stdout"
        }
      ]
    },
    {
      "cell_type": "code",
      "metadata": {
        "id": "z4Ui-pj4T8UI",
        "colab_type": "code",
        "outputId": "74189cc2-341b-4774-d52e-c1a2e47e95c8",
        "colab": {
          "base_uri": "https://localhost:8080/",
          "height": 295
        }
      },
      "source": [
        "plt.plot(history.history['accuracy'], label='accuracy')\n",
        "plt.plot(history.history['val_accuracy'], label = 'val_accuracy')\n",
        "plt.title('Model1')\n",
        "plt.xlabel('Epoch')\n",
        "plt.ylabel('Accuracy')\n",
        "plt.ylim([0.5, 1])\n",
        "plt.legend(loc='lower right')\n",
        "plt.savefig('model1.png')"
      ],
      "execution_count": 68,
      "outputs": [
        {
          "output_type": "display_data",
          "data": {
            "image/png": "[encoded data removed]",
            "text/plain": [
              "<Figure size 432x288 with 1 Axes>"
            ]
          },
          "metadata": {
            "tags": []
          }
        }
      ]
    },
    {
      "cell_type": "markdown",
      "metadata": {
        "id": "BNWnbX-XDQjK",
        "colab_type": "text"
      },
      "source": [
        "#### Modèle 2"
      ]
    },
    {
      "cell_type": "code",
      "metadata": {
        "id": "pXTISmO_DSeF",
        "colab_type": "code",
        "colab": {
          "base_uri": "https://localhost:8080/",
          "height": 34
        },
        "outputId": "d27ece8e-8192-4e67-8a3e-968a0762fde9"
      },
      "source": [
        "test_loss, test_acc = model2.evaluate(test_images,  test_labels, verbose=2)"
      ],
      "execution_count": 69,
      "outputs": [
        {
          "output_type": "stream",
          "text": [
            "313/313 - 5s - loss: 1.0756 - accuracy: 0.7283\n"
          ],
          "name": "stdout"
        }
      ]
    },
    {
      "cell_type": "code",
      "metadata": {
        "id": "PACq1pheDbPk",
        "colab_type": "code",
        "colab": {
          "base_uri": "https://localhost:8080/",
          "height": 295
        },
        "outputId": "8b958792-4582-4953-c864-0a4f8c3a62c3"
      },
      "source": [
        "plt.plot(history2.history['accuracy'], label='accuracy')\n",
        "plt.plot(history2.history['val_accuracy'], label = 'val_accuracy')\n",
        "plt.title('Model2')\n",
        "plt.xlabel('Epoch')\n",
        "plt.ylabel('Accuracy')\n",
        "plt.ylim([0.5, 1])\n",
        "plt.legend(loc='lower right')\n",
        "plt.savefig('model2.png')"
      ],
      "execution_count": 70,
      "outputs": [
        {
          "output_type": "display_data",
          "data": {
            "image/png": "[encoded data removed]",
            "text/plain": [
              "<Figure size 432x288 with 1 Axes>"
            ]
          },
          "metadata": {
            "tags": []
          }
        }
      ]
    },
    {
      "cell_type": "markdown",
      "metadata": {
        "id": "MJF2Mjb5D5KH",
        "colab_type": "text"
      },
      "source": [
        "#### Modèle 3"
      ]
    },
    {
      "cell_type": "code",
      "metadata": {
        "id": "PoAlEaMvD7nl",
        "colab_type": "code",
        "colab": {
          "base_uri": "https://localhost:8080/",
          "height": 34
        },
        "outputId": "161fdb83-01b4-498c-9ac9-25a54da09691"
      },
      "source": [
        "test_loss, test_acc = model3.evaluate(test_images,  test_labels, verbose=2)"
      ],
      "execution_count": 82,
      "outputs": [
        {
          "output_type": "stream",
          "text": [
            "313/313 - 0s - loss: 1.8843 - accuracy: 0.2822\n"
          ],
          "name": "stdout"
        }
      ]
    },
    {
      "cell_type": "code",
      "metadata": {
        "id": "MKzABHxjECbl",
        "colab_type": "code",
        "colab": {
          "base_uri": "https://localhost:8080/",
          "height": 295
        },
        "outputId": "ae888e2b-a48c-43e4-cb26-96046674a50a"
      },
      "source": [
        "plt.plot(history3.history['accuracy'], label='accuracy')\n",
        "#plt.plot(history3.history['val_accuracy'], label = 'val_accuracy')\n",
        "plt.title('Model3')\n",
        "plt.xlabel('Epoch')\n",
        "plt.ylabel('Accuracy')\n",
        "plt.ylim([0, 0.5])\n",
        "plt.legend(loc='lower right')\n",
        "plt.savefig('model3.png')"
      ],
      "execution_count": 83,
      "outputs": [
        {
          "output_type": "display_data",
          "data": {
            "image/png": "[encoded data removed]",
            "text/plain": [
              "<Figure size 432x288 with 1 Axes>"
            ]
          },
          "metadata": {
            "tags": []
          }
        }
      ]
    },
    {
      "cell_type": "markdown",
      "metadata": {
        "id": "vlth39-5E6zP",
        "colab_type": "text"
      },
      "source": [
        "### On calcule les matrices de confusion"
      ]
    },
    {
      "cell_type": "markdown",
      "metadata": {
        "id": "Y05dR9SYE_Mf",
        "colab_type": "text"
      },
      "source": [
        "#### Modèle 1"
      ]
    },
    {
      "cell_type": "code",
      "metadata": {
        "id": "tTHvMegjFFcN",
        "colab_type": "code",
        "colab": {
          "base_uri": "https://localhost:8080/",
          "height": 34
        },
        "outputId": "407aa8e6-74b9-4b90-8ab1-5494f0b1b906"
      },
      "source": [
        "# on crée un vecteur contenant l'ensemble des prédictions\n",
        "predictions1 = np.argmax(model.predict(test_images), axis=1)\n",
        "predictions1"
      ],
      "execution_count": 81,
      "outputs": [
        {
          "output_type": "execute_result",
          "data": {
            "text/plain": [
              "array([3, 8, 8, ..., 5, 1, 7])"
            ]
          },
          "metadata": {
            "tags": []
          },
          "execution_count": 81
        }
      ]
    },
    {
      "cell_type": "code",
      "metadata": {
        "id": "fJR0OtskFvaJ",
        "colab_type": "code",
        "colab": {
          "base_uri": "https://localhost:8080/",
          "height": 363
        },
        "outputId": "f213c3ff-4d55-4cd6-8d94-dc5aea730fa1"
      },
      "source": [
        "cm = confusion_matrix(test_labels[:,0], predictions1)\n",
        "pd.DataFrame(cm, index=class_names, columns=class_names)"
      ],
      "execution_count": 87,
      "outputs": [
        {
          "output_type": "execute_result",
          "data": {
            "text/html": [
              "<div>\n",
              "<style scoped>\n",
              "    .dataframe tbody tr th:only-of-type {\n",
              "        vertical-align: middle;\n",
              "    }\n",
              "\n",
              "    .dataframe tbody tr th {\n",
              "        vertical-align: top;\n",
              "    }\n",
              "\n",
              "    .dataframe thead th {\n",
              "        text-align: right;\n",
              "    }\n",
              "</style>\n",
              "<table border=\"1\" class=\"dataframe\">\n",
              "  <thead>\n",
              "    <tr style=\"text-align: right;\">\n",
              "      <th></th>\n",
              "      <th>airplane</th>\n",
              "      <th>automobile</th>\n",
              "      <th>bird</th>\n",
              "      <th>cat</th>\n",
              "      <th>deer</th>\n",
              "      <th>dog</th>\n",
              "      <th>frog</th>\n",
              "      <th>horse</th>\n",
              "      <th>ship</th>\n",
              "      <th>truck</th>\n",
              "    </tr>\n",
              "  </thead>\n",
              "  <tbody>\n",
              "    <tr>\n",
              "      <th>airplane</th>\n",
              "      <td>733</td>\n",
              "      <td>17</td>\n",
              "      <td>54</td>\n",
              "      <td>20</td>\n",
              "      <td>27</td>\n",
              "      <td>17</td>\n",
              "      <td>7</td>\n",
              "      <td>15</td>\n",
              "      <td>75</td>\n",
              "      <td>35</td>\n",
              "    </tr>\n",
              "    <tr>\n",
              "      <th>automobile</th>\n",
              "      <td>24</td>\n",
              "      <td>775</td>\n",
              "      <td>5</td>\n",
              "      <td>12</td>\n",
              "      <td>6</td>\n",
              "      <td>8</td>\n",
              "      <td>10</td>\n",
              "      <td>7</td>\n",
              "      <td>31</td>\n",
              "      <td>122</td>\n",
              "    </tr>\n",
              "    <tr>\n",
              "      <th>bird</th>\n",
              "      <td>65</td>\n",
              "      <td>4</td>\n",
              "      <td>560</td>\n",
              "      <td>96</td>\n",
              "      <td>66</td>\n",
              "      <td>78</td>\n",
              "      <td>63</td>\n",
              "      <td>47</td>\n",
              "      <td>15</td>\n",
              "      <td>6</td>\n",
              "    </tr>\n",
              "    <tr>\n",
              "      <th>cat</th>\n",
              "      <td>29</td>\n",
              "      <td>10</td>\n",
              "      <td>65</td>\n",
              "      <td>500</td>\n",
              "      <td>60</td>\n",
              "      <td>198</td>\n",
              "      <td>60</td>\n",
              "      <td>49</td>\n",
              "      <td>18</td>\n",
              "      <td>11</td>\n",
              "    </tr>\n",
              "    <tr>\n",
              "      <th>deer</th>\n",
              "      <td>22</td>\n",
              "      <td>4</td>\n",
              "      <td>78</td>\n",
              "      <td>89</td>\n",
              "      <td>599</td>\n",
              "      <td>62</td>\n",
              "      <td>53</td>\n",
              "      <td>77</td>\n",
              "      <td>12</td>\n",
              "      <td>4</td>\n",
              "    </tr>\n",
              "    <tr>\n",
              "      <th>dog</th>\n",
              "      <td>17</td>\n",
              "      <td>2</td>\n",
              "      <td>46</td>\n",
              "      <td>174</td>\n",
              "      <td>47</td>\n",
              "      <td>624</td>\n",
              "      <td>27</td>\n",
              "      <td>49</td>\n",
              "      <td>9</td>\n",
              "      <td>5</td>\n",
              "    </tr>\n",
              "    <tr>\n",
              "      <th>frog</th>\n",
              "      <td>8</td>\n",
              "      <td>3</td>\n",
              "      <td>51</td>\n",
              "      <td>83</td>\n",
              "      <td>27</td>\n",
              "      <td>40</td>\n",
              "      <td>766</td>\n",
              "      <td>9</td>\n",
              "      <td>10</td>\n",
              "      <td>3</td>\n",
              "    </tr>\n",
              "    <tr>\n",
              "      <th>horse</th>\n",
              "      <td>21</td>\n",
              "      <td>9</td>\n",
              "      <td>32</td>\n",
              "      <td>55</td>\n",
              "      <td>60</td>\n",
              "      <td>87</td>\n",
              "      <td>8</td>\n",
              "      <td>704</td>\n",
              "      <td>5</td>\n",
              "      <td>19</td>\n",
              "    </tr>\n",
              "    <tr>\n",
              "      <th>ship</th>\n",
              "      <td>61</td>\n",
              "      <td>30</td>\n",
              "      <td>19</td>\n",
              "      <td>19</td>\n",
              "      <td>9</td>\n",
              "      <td>12</td>\n",
              "      <td>4</td>\n",
              "      <td>7</td>\n",
              "      <td>799</td>\n",
              "      <td>40</td>\n",
              "    </tr>\n",
              "    <tr>\n",
              "      <th>truck</th>\n",
              "      <td>47</td>\n",
              "      <td>59</td>\n",
              "      <td>12</td>\n",
              "      <td>23</td>\n",
              "      <td>5</td>\n",
              "      <td>7</td>\n",
              "      <td>12</td>\n",
              "      <td>18</td>\n",
              "      <td>34</td>\n",
              "      <td>783</td>\n",
              "    </tr>\n",
              "  </tbody>\n",
              "</table>\n",
              "</div>"
            ],
            "text/plain": [
              "            airplane  automobile  bird  cat  ...  frog  horse  ship  truck\n",
              "airplane         733          17    54   20  ...     7     15    75     35\n",
              "automobile        24         775     5   12  ...    10      7    31    122\n",
              "bird              65           4   560   96  ...    63     47    15      6\n",
              "cat               29          10    65  500  ...    60     49    18     11\n",
              "deer              22           4    78   89  ...    53     77    12      4\n",
              "dog               17           2    46  174  ...    27     49     9      5\n",
              "frog               8           3    51   83  ...   766      9    10      3\n",
              "horse             21           9    32   55  ...     8    704     5     19\n",
              "ship              61          30    19   19  ...     4      7   799     40\n",
              "truck             47          59    12   23  ...    12     18    34    783\n",
              "\n",
              "[10 rows x 10 columns]"
            ]
          },
          "metadata": {
            "tags": []
          },
          "execution_count": 87
        }
      ]
    },
    {
      "cell_type": "code",
      "metadata": {
        "id": "n261ZSu6GBb7",
        "colab_type": "code",
        "colab": {
          "base_uri": "https://localhost:8080/",
          "height": 363
        },
        "outputId": "a78423fa-14d1-42ab-bd66-8f99287d3512"
      },
      "source": [
        "cm_nor_l = np.around(confusion_matrix(test_labels[:,0], predictions1, normalize='true') * 100, 0).astype(int) # en lignes\n",
        "pd.DataFrame(cm_nor_l, index=class_names, columns=class_names)"
      ],
      "execution_count": 90,
      "outputs": [
        {
          "output_type": "execute_result",
          "data": {
            "text/html": [
              "<div>\n",
              "<style scoped>\n",
              "    .dataframe tbody tr th:only-of-type {\n",
              "        vertical-align: middle;\n",
              "    }\n",
              "\n",
              "    .dataframe tbody tr th {\n",
              "        vertical-align: top;\n",
              "    }\n",
              "\n",
              "    .dataframe thead th {\n",
              "        text-align: right;\n",
              "    }\n",
              "</style>\n",
              "<table border=\"1\" class=\"dataframe\">\n",
              "  <thead>\n",
              "    <tr style=\"text-align: right;\">\n",
              "      <th></th>\n",
              "      <th>airplane</th>\n",
              "      <th>automobile</th>\n",
              "      <th>bird</th>\n",
              "      <th>cat</th>\n",
              "      <th>deer</th>\n",
              "      <th>dog</th>\n",
              "      <th>frog</th>\n",
              "      <th>horse</th>\n",
              "      <th>ship</th>\n",
              "      <th>truck</th>\n",
              "    </tr>\n",
              "  </thead>\n",
              "  <tbody>\n",
              "    <tr>\n",
              "      <th>airplane</th>\n",
              "      <td>73</td>\n",
              "      <td>2</td>\n",
              "      <td>5</td>\n",
              "      <td>2</td>\n",
              "      <td>3</td>\n",
              "      <td>2</td>\n",
              "      <td>1</td>\n",
              "      <td>2</td>\n",
              "      <td>8</td>\n",
              "      <td>4</td>\n",
              "    </tr>\n",
              "    <tr>\n",
              "      <th>automobile</th>\n",
              "      <td>2</td>\n",
              "      <td>78</td>\n",
              "      <td>0</td>\n",
              "      <td>1</td>\n",
              "      <td>1</td>\n",
              "      <td>1</td>\n",
              "      <td>1</td>\n",
              "      <td>1</td>\n",
              "      <td>3</td>\n",
              "      <td>12</td>\n",
              "    </tr>\n",
              "    <tr>\n",
              "      <th>bird</th>\n",
              "      <td>6</td>\n",
              "      <td>0</td>\n",
              "      <td>56</td>\n",
              "      <td>10</td>\n",
              "      <td>7</td>\n",
              "      <td>8</td>\n",
              "      <td>6</td>\n",
              "      <td>5</td>\n",
              "      <td>2</td>\n",
              "      <td>1</td>\n",
              "    </tr>\n",
              "    <tr>\n",
              "      <th>cat</th>\n",
              "      <td>3</td>\n",
              "      <td>1</td>\n",
              "      <td>6</td>\n",
              "      <td>50</td>\n",
              "      <td>6</td>\n",
              "      <td>20</td>\n",
              "      <td>6</td>\n",
              "      <td>5</td>\n",
              "      <td>2</td>\n",
              "      <td>1</td>\n",
              "    </tr>\n",
              "    <tr>\n",
              "      <th>deer</th>\n",
              "      <td>2</td>\n",
              "      <td>0</td>\n",
              "      <td>8</td>\n",
              "      <td>9</td>\n",
              "      <td>60</td>\n",
              "      <td>6</td>\n",
              "      <td>5</td>\n",
              "      <td>8</td>\n",
              "      <td>1</td>\n",
              "      <td>0</td>\n",
              "    </tr>\n",
              "    <tr>\n",
              "      <th>dog</th>\n",
              "      <td>2</td>\n",
              "      <td>0</td>\n",
              "      <td>5</td>\n",
              "      <td>17</td>\n",
              "      <td>5</td>\n",
              "      <td>62</td>\n",
              "      <td>3</td>\n",
              "      <td>5</td>\n",
              "      <td>1</td>\n",
              "      <td>0</td>\n",
              "    </tr>\n",
              "    <tr>\n",
              "      <th>frog</th>\n",
              "      <td>1</td>\n",
              "      <td>0</td>\n",
              "      <td>5</td>\n",
              "      <td>8</td>\n",
              "      <td>3</td>\n",
              "      <td>4</td>\n",
              "      <td>77</td>\n",
              "      <td>1</td>\n",
              "      <td>1</td>\n",
              "      <td>0</td>\n",
              "    </tr>\n",
              "    <tr>\n",
              "      <th>horse</th>\n",
              "      <td>2</td>\n",
              "      <td>1</td>\n",
              "      <td>3</td>\n",
              "      <td>6</td>\n",
              "      <td>6</td>\n",
              "      <td>9</td>\n",
              "      <td>1</td>\n",
              "      <td>70</td>\n",
              "      <td>0</td>\n",
              "      <td>2</td>\n",
              "    </tr>\n",
              "    <tr>\n",
              "      <th>ship</th>\n",
              "      <td>6</td>\n",
              "      <td>3</td>\n",
              "      <td>2</td>\n",
              "      <td>2</td>\n",
              "      <td>1</td>\n",
              "      <td>1</td>\n",
              "      <td>0</td>\n",
              "      <td>1</td>\n",
              "      <td>80</td>\n",
              "      <td>4</td>\n",
              "    </tr>\n",
              "    <tr>\n",
              "      <th>truck</th>\n",
              "      <td>5</td>\n",
              "      <td>6</td>\n",
              "      <td>1</td>\n",
              "      <td>2</td>\n",
              "      <td>0</td>\n",
              "      <td>1</td>\n",
              "      <td>1</td>\n",
              "      <td>2</td>\n",
              "      <td>3</td>\n",
              "      <td>78</td>\n",
              "    </tr>\n",
              "  </tbody>\n",
              "</table>\n",
              "</div>"
            ],
            "text/plain": [
              "            airplane  automobile  bird  cat  ...  frog  horse  ship  truck\n",
              "airplane          73           2     5    2  ...     1      2     8      4\n",
              "automobile         2          78     0    1  ...     1      1     3     12\n",
              "bird               6           0    56   10  ...     6      5     2      1\n",
              "cat                3           1     6   50  ...     6      5     2      1\n",
              "deer               2           0     8    9  ...     5      8     1      0\n",
              "dog                2           0     5   17  ...     3      5     1      0\n",
              "frog               1           0     5    8  ...    77      1     1      0\n",
              "horse              2           1     3    6  ...     1     70     0      2\n",
              "ship               6           3     2    2  ...     0      1    80      4\n",
              "truck              5           6     1    2  ...     1      2     3     78\n",
              "\n",
              "[10 rows x 10 columns]"
            ]
          },
          "metadata": {
            "tags": []
          },
          "execution_count": 90
        }
      ]
    },
    {
      "cell_type": "code",
      "metadata": {
        "id": "naDACHw7GifM",
        "colab_type": "code",
        "colab": {
          "base_uri": "https://localhost:8080/",
          "height": 363
        },
        "outputId": "ff41f141-c8c7-4fff-b7f8-9d2122d5806e"
      },
      "source": [
        "cm_nor_c = np.around(confusion_matrix(test_labels[:,0], predictions1, normalize='pred') * 100, 0).astype(int) # en colonnes\n",
        "pd.DataFrame(cm_nor_c, index=class_names, columns=class_names)"
      ],
      "execution_count": 96,
      "outputs": [
        {
          "output_type": "execute_result",
          "data": {
            "text/html": [
              "<div>\n",
              "<style scoped>\n",
              "    .dataframe tbody tr th:only-of-type {\n",
              "        vertical-align: middle;\n",
              "    }\n",
              "\n",
              "    .dataframe tbody tr th {\n",
              "        vertical-align: top;\n",
              "    }\n",
              "\n",
              "    .dataframe thead th {\n",
              "        text-align: right;\n",
              "    }\n",
              "</style>\n",
              "<table border=\"1\" class=\"dataframe\">\n",
              "  <thead>\n",
              "    <tr style=\"text-align: right;\">\n",
              "      <th></th>\n",
              "      <th>airplane</th>\n",
              "      <th>automobile</th>\n",
              "      <th>bird</th>\n",
              "      <th>cat</th>\n",
              "      <th>deer</th>\n",
              "      <th>dog</th>\n",
              "      <th>frog</th>\n",
              "      <th>horse</th>\n",
              "      <th>ship</th>\n",
              "      <th>truck</th>\n",
              "    </tr>\n",
              "  </thead>\n",
              "  <tbody>\n",
              "    <tr>\n",
              "      <th>airplane</th>\n",
              "      <td>71</td>\n",
              "      <td>2</td>\n",
              "      <td>6</td>\n",
              "      <td>2</td>\n",
              "      <td>3</td>\n",
              "      <td>2</td>\n",
              "      <td>1</td>\n",
              "      <td>2</td>\n",
              "      <td>7</td>\n",
              "      <td>3</td>\n",
              "    </tr>\n",
              "    <tr>\n",
              "      <th>automobile</th>\n",
              "      <td>2</td>\n",
              "      <td>85</td>\n",
              "      <td>1</td>\n",
              "      <td>1</td>\n",
              "      <td>1</td>\n",
              "      <td>1</td>\n",
              "      <td>1</td>\n",
              "      <td>1</td>\n",
              "      <td>3</td>\n",
              "      <td>12</td>\n",
              "    </tr>\n",
              "    <tr>\n",
              "      <th>bird</th>\n",
              "      <td>6</td>\n",
              "      <td>0</td>\n",
              "      <td>61</td>\n",
              "      <td>9</td>\n",
              "      <td>7</td>\n",
              "      <td>7</td>\n",
              "      <td>6</td>\n",
              "      <td>5</td>\n",
              "      <td>1</td>\n",
              "      <td>1</td>\n",
              "    </tr>\n",
              "    <tr>\n",
              "      <th>cat</th>\n",
              "      <td>3</td>\n",
              "      <td>1</td>\n",
              "      <td>7</td>\n",
              "      <td>47</td>\n",
              "      <td>7</td>\n",
              "      <td>17</td>\n",
              "      <td>6</td>\n",
              "      <td>5</td>\n",
              "      <td>2</td>\n",
              "      <td>1</td>\n",
              "    </tr>\n",
              "    <tr>\n",
              "      <th>deer</th>\n",
              "      <td>2</td>\n",
              "      <td>0</td>\n",
              "      <td>8</td>\n",
              "      <td>8</td>\n",
              "      <td>66</td>\n",
              "      <td>5</td>\n",
              "      <td>5</td>\n",
              "      <td>8</td>\n",
              "      <td>1</td>\n",
              "      <td>0</td>\n",
              "    </tr>\n",
              "    <tr>\n",
              "      <th>dog</th>\n",
              "      <td>2</td>\n",
              "      <td>0</td>\n",
              "      <td>5</td>\n",
              "      <td>16</td>\n",
              "      <td>5</td>\n",
              "      <td>55</td>\n",
              "      <td>3</td>\n",
              "      <td>5</td>\n",
              "      <td>1</td>\n",
              "      <td>0</td>\n",
              "    </tr>\n",
              "    <tr>\n",
              "      <th>frog</th>\n",
              "      <td>1</td>\n",
              "      <td>0</td>\n",
              "      <td>6</td>\n",
              "      <td>8</td>\n",
              "      <td>3</td>\n",
              "      <td>4</td>\n",
              "      <td>76</td>\n",
              "      <td>1</td>\n",
              "      <td>1</td>\n",
              "      <td>0</td>\n",
              "    </tr>\n",
              "    <tr>\n",
              "      <th>horse</th>\n",
              "      <td>2</td>\n",
              "      <td>1</td>\n",
              "      <td>3</td>\n",
              "      <td>5</td>\n",
              "      <td>7</td>\n",
              "      <td>8</td>\n",
              "      <td>1</td>\n",
              "      <td>72</td>\n",
              "      <td>0</td>\n",
              "      <td>2</td>\n",
              "    </tr>\n",
              "    <tr>\n",
              "      <th>ship</th>\n",
              "      <td>6</td>\n",
              "      <td>3</td>\n",
              "      <td>2</td>\n",
              "      <td>2</td>\n",
              "      <td>1</td>\n",
              "      <td>1</td>\n",
              "      <td>0</td>\n",
              "      <td>1</td>\n",
              "      <td>79</td>\n",
              "      <td>4</td>\n",
              "    </tr>\n",
              "    <tr>\n",
              "      <th>truck</th>\n",
              "      <td>5</td>\n",
              "      <td>6</td>\n",
              "      <td>1</td>\n",
              "      <td>2</td>\n",
              "      <td>1</td>\n",
              "      <td>1</td>\n",
              "      <td>1</td>\n",
              "      <td>2</td>\n",
              "      <td>3</td>\n",
              "      <td>76</td>\n",
              "    </tr>\n",
              "  </tbody>\n",
              "</table>\n",
              "</div>"
            ],
            "text/plain": [
              "            airplane  automobile  bird  cat  ...  frog  horse  ship  truck\n",
              "airplane          71           2     6    2  ...     1      2     7      3\n",
              "automobile         2          85     1    1  ...     1      1     3     12\n",
              "bird               6           0    61    9  ...     6      5     1      1\n",
              "cat                3           1     7   47  ...     6      5     2      1\n",
              "deer               2           0     8    8  ...     5      8     1      0\n",
              "dog                2           0     5   16  ...     3      5     1      0\n",
              "frog               1           0     6    8  ...    76      1     1      0\n",
              "horse              2           1     3    5  ...     1     72     0      2\n",
              "ship               6           3     2    2  ...     0      1    79      4\n",
              "truck              5           6     1    2  ...     1      2     3     76\n",
              "\n",
              "[10 rows x 10 columns]"
            ]
          },
          "metadata": {
            "tags": []
          },
          "execution_count": 96
        }
      ]
    },
    {
      "cell_type": "markdown",
      "metadata": {
        "id": "Nvv_6zgeFBcf",
        "colab_type": "text"
      },
      "source": [
        "#### Modèle 2"
      ]
    },
    {
      "cell_type": "code",
      "metadata": {
        "id": "COVL7n01FiRF",
        "colab_type": "code",
        "colab": {
          "base_uri": "https://localhost:8080/",
          "height": 34
        },
        "outputId": "4b3c522e-44c7-45a4-9ddc-65c704eb6d28"
      },
      "source": [
        "# on crée un vecteur contenant l'ensemble des prédictions\n",
        "predictions2 = np.argmax(model2.predict(test_images), axis=1)\n",
        "predictions2"
      ],
      "execution_count": 84,
      "outputs": [
        {
          "output_type": "execute_result",
          "data": {
            "text/plain": [
              "array([3, 8, 8, ..., 5, 1, 7])"
            ]
          },
          "metadata": {
            "tags": []
          },
          "execution_count": 84
        }
      ]
    },
    {
      "cell_type": "code",
      "metadata": {
        "id": "3QqY5bzrF48L",
        "colab_type": "code",
        "colab": {
          "base_uri": "https://localhost:8080/",
          "height": 363
        },
        "outputId": "65c270f3-d0d8-49e2-e8eb-eb4b9923f2e1"
      },
      "source": [
        "cm = confusion_matrix(test_labels[:,0], predictions2)\n",
        "pd.DataFrame(cm, index=class_names, columns=class_names)"
      ],
      "execution_count": 88,
      "outputs": [
        {
          "output_type": "execute_result",
          "data": {
            "text/html": [
              "<div>\n",
              "<style scoped>\n",
              "    .dataframe tbody tr th:only-of-type {\n",
              "        vertical-align: middle;\n",
              "    }\n",
              "\n",
              "    .dataframe tbody tr th {\n",
              "        vertical-align: top;\n",
              "    }\n",
              "\n",
              "    .dataframe thead th {\n",
              "        text-align: right;\n",
              "    }\n",
              "</style>\n",
              "<table border=\"1\" class=\"dataframe\">\n",
              "  <thead>\n",
              "    <tr style=\"text-align: right;\">\n",
              "      <th></th>\n",
              "      <th>airplane</th>\n",
              "      <th>automobile</th>\n",
              "      <th>bird</th>\n",
              "      <th>cat</th>\n",
              "      <th>deer</th>\n",
              "      <th>dog</th>\n",
              "      <th>frog</th>\n",
              "      <th>horse</th>\n",
              "      <th>ship</th>\n",
              "      <th>truck</th>\n",
              "    </tr>\n",
              "  </thead>\n",
              "  <tbody>\n",
              "    <tr>\n",
              "      <th>airplane</th>\n",
              "      <td>777</td>\n",
              "      <td>13</td>\n",
              "      <td>58</td>\n",
              "      <td>12</td>\n",
              "      <td>25</td>\n",
              "      <td>9</td>\n",
              "      <td>4</td>\n",
              "      <td>16</td>\n",
              "      <td>56</td>\n",
              "      <td>30</td>\n",
              "    </tr>\n",
              "    <tr>\n",
              "      <th>automobile</th>\n",
              "      <td>18</td>\n",
              "      <td>837</td>\n",
              "      <td>4</td>\n",
              "      <td>2</td>\n",
              "      <td>7</td>\n",
              "      <td>4</td>\n",
              "      <td>9</td>\n",
              "      <td>4</td>\n",
              "      <td>18</td>\n",
              "      <td>97</td>\n",
              "    </tr>\n",
              "    <tr>\n",
              "      <th>bird</th>\n",
              "      <td>58</td>\n",
              "      <td>4</td>\n",
              "      <td>673</td>\n",
              "      <td>57</td>\n",
              "      <td>86</td>\n",
              "      <td>29</td>\n",
              "      <td>47</td>\n",
              "      <td>33</td>\n",
              "      <td>5</td>\n",
              "      <td>8</td>\n",
              "    </tr>\n",
              "    <tr>\n",
              "      <th>cat</th>\n",
              "      <td>25</td>\n",
              "      <td>9</td>\n",
              "      <td>83</td>\n",
              "      <td>515</td>\n",
              "      <td>88</td>\n",
              "      <td>114</td>\n",
              "      <td>76</td>\n",
              "      <td>65</td>\n",
              "      <td>8</td>\n",
              "      <td>17</td>\n",
              "    </tr>\n",
              "    <tr>\n",
              "      <th>deer</th>\n",
              "      <td>13</td>\n",
              "      <td>4</td>\n",
              "      <td>85</td>\n",
              "      <td>65</td>\n",
              "      <td>709</td>\n",
              "      <td>18</td>\n",
              "      <td>44</td>\n",
              "      <td>53</td>\n",
              "      <td>6</td>\n",
              "      <td>3</td>\n",
              "    </tr>\n",
              "    <tr>\n",
              "      <th>dog</th>\n",
              "      <td>9</td>\n",
              "      <td>4</td>\n",
              "      <td>85</td>\n",
              "      <td>182</td>\n",
              "      <td>55</td>\n",
              "      <td>541</td>\n",
              "      <td>37</td>\n",
              "      <td>76</td>\n",
              "      <td>4</td>\n",
              "      <td>7</td>\n",
              "    </tr>\n",
              "    <tr>\n",
              "      <th>frog</th>\n",
              "      <td>8</td>\n",
              "      <td>4</td>\n",
              "      <td>53</td>\n",
              "      <td>44</td>\n",
              "      <td>26</td>\n",
              "      <td>8</td>\n",
              "      <td>833</td>\n",
              "      <td>16</td>\n",
              "      <td>6</td>\n",
              "      <td>2</td>\n",
              "    </tr>\n",
              "    <tr>\n",
              "      <th>horse</th>\n",
              "      <td>15</td>\n",
              "      <td>2</td>\n",
              "      <td>38</td>\n",
              "      <td>43</td>\n",
              "      <td>57</td>\n",
              "      <td>28</td>\n",
              "      <td>3</td>\n",
              "      <td>800</td>\n",
              "      <td>4</td>\n",
              "      <td>10</td>\n",
              "    </tr>\n",
              "    <tr>\n",
              "      <th>ship</th>\n",
              "      <td>82</td>\n",
              "      <td>42</td>\n",
              "      <td>13</td>\n",
              "      <td>14</td>\n",
              "      <td>9</td>\n",
              "      <td>4</td>\n",
              "      <td>6</td>\n",
              "      <td>9</td>\n",
              "      <td>795</td>\n",
              "      <td>26</td>\n",
              "    </tr>\n",
              "    <tr>\n",
              "      <th>truck</th>\n",
              "      <td>37</td>\n",
              "      <td>63</td>\n",
              "      <td>12</td>\n",
              "      <td>18</td>\n",
              "      <td>8</td>\n",
              "      <td>3</td>\n",
              "      <td>14</td>\n",
              "      <td>15</td>\n",
              "      <td>27</td>\n",
              "      <td>803</td>\n",
              "    </tr>\n",
              "  </tbody>\n",
              "</table>\n",
              "</div>"
            ],
            "text/plain": [
              "            airplane  automobile  bird  cat  ...  frog  horse  ship  truck\n",
              "airplane         777          13    58   12  ...     4     16    56     30\n",
              "automobile        18         837     4    2  ...     9      4    18     97\n",
              "bird              58           4   673   57  ...    47     33     5      8\n",
              "cat               25           9    83  515  ...    76     65     8     17\n",
              "deer              13           4    85   65  ...    44     53     6      3\n",
              "dog                9           4    85  182  ...    37     76     4      7\n",
              "frog               8           4    53   44  ...   833     16     6      2\n",
              "horse             15           2    38   43  ...     3    800     4     10\n",
              "ship              82          42    13   14  ...     6      9   795     26\n",
              "truck             37          63    12   18  ...    14     15    27    803\n",
              "\n",
              "[10 rows x 10 columns]"
            ]
          },
          "metadata": {
            "tags": []
          },
          "execution_count": 88
        }
      ]
    },
    {
      "cell_type": "code",
      "metadata": {
        "id": "r8j6W-FpGIr9",
        "colab_type": "code",
        "colab": {
          "base_uri": "https://localhost:8080/",
          "height": 363
        },
        "outputId": "edd010bc-fae7-4ba7-f9aa-bdb4f12457e1"
      },
      "source": [
        "cm_nor_l = np.around(confusion_matrix(test_labels[:,0], predictions2, normalize='true') * 100, 0).astype(int) # en lignes\n",
        "pd.DataFrame(cm_nor_l, index=class_names, columns=class_names)"
      ],
      "execution_count": 92,
      "outputs": [
        {
          "output_type": "execute_result",
          "data": {
            "text/html": [
              "<div>\n",
              "<style scoped>\n",
              "    .dataframe tbody tr th:only-of-type {\n",
              "        vertical-align: middle;\n",
              "    }\n",
              "\n",
              "    .dataframe tbody tr th {\n",
              "        vertical-align: top;\n",
              "    }\n",
              "\n",
              "    .dataframe thead th {\n",
              "        text-align: right;\n",
              "    }\n",
              "</style>\n",
              "<table border=\"1\" class=\"dataframe\">\n",
              "  <thead>\n",
              "    <tr style=\"text-align: right;\">\n",
              "      <th></th>\n",
              "      <th>airplane</th>\n",
              "      <th>automobile</th>\n",
              "      <th>bird</th>\n",
              "      <th>cat</th>\n",
              "      <th>deer</th>\n",
              "      <th>dog</th>\n",
              "      <th>frog</th>\n",
              "      <th>horse</th>\n",
              "      <th>ship</th>\n",
              "      <th>truck</th>\n",
              "    </tr>\n",
              "  </thead>\n",
              "  <tbody>\n",
              "    <tr>\n",
              "      <th>airplane</th>\n",
              "      <td>78</td>\n",
              "      <td>1</td>\n",
              "      <td>6</td>\n",
              "      <td>1</td>\n",
              "      <td>2</td>\n",
              "      <td>1</td>\n",
              "      <td>0</td>\n",
              "      <td>2</td>\n",
              "      <td>6</td>\n",
              "      <td>3</td>\n",
              "    </tr>\n",
              "    <tr>\n",
              "      <th>automobile</th>\n",
              "      <td>2</td>\n",
              "      <td>84</td>\n",
              "      <td>0</td>\n",
              "      <td>0</td>\n",
              "      <td>1</td>\n",
              "      <td>0</td>\n",
              "      <td>1</td>\n",
              "      <td>0</td>\n",
              "      <td>2</td>\n",
              "      <td>10</td>\n",
              "    </tr>\n",
              "    <tr>\n",
              "      <th>bird</th>\n",
              "      <td>6</td>\n",
              "      <td>0</td>\n",
              "      <td>67</td>\n",
              "      <td>6</td>\n",
              "      <td>9</td>\n",
              "      <td>3</td>\n",
              "      <td>5</td>\n",
              "      <td>3</td>\n",
              "      <td>0</td>\n",
              "      <td>1</td>\n",
              "    </tr>\n",
              "    <tr>\n",
              "      <th>cat</th>\n",
              "      <td>2</td>\n",
              "      <td>1</td>\n",
              "      <td>8</td>\n",
              "      <td>52</td>\n",
              "      <td>9</td>\n",
              "      <td>11</td>\n",
              "      <td>8</td>\n",
              "      <td>6</td>\n",
              "      <td>1</td>\n",
              "      <td>2</td>\n",
              "    </tr>\n",
              "    <tr>\n",
              "      <th>deer</th>\n",
              "      <td>1</td>\n",
              "      <td>0</td>\n",
              "      <td>8</td>\n",
              "      <td>6</td>\n",
              "      <td>71</td>\n",
              "      <td>2</td>\n",
              "      <td>4</td>\n",
              "      <td>5</td>\n",
              "      <td>1</td>\n",
              "      <td>0</td>\n",
              "    </tr>\n",
              "    <tr>\n",
              "      <th>dog</th>\n",
              "      <td>1</td>\n",
              "      <td>0</td>\n",
              "      <td>8</td>\n",
              "      <td>18</td>\n",
              "      <td>6</td>\n",
              "      <td>54</td>\n",
              "      <td>4</td>\n",
              "      <td>8</td>\n",
              "      <td>0</td>\n",
              "      <td>1</td>\n",
              "    </tr>\n",
              "    <tr>\n",
              "      <th>frog</th>\n",
              "      <td>1</td>\n",
              "      <td>0</td>\n",
              "      <td>5</td>\n",
              "      <td>4</td>\n",
              "      <td>3</td>\n",
              "      <td>1</td>\n",
              "      <td>83</td>\n",
              "      <td>2</td>\n",
              "      <td>1</td>\n",
              "      <td>0</td>\n",
              "    </tr>\n",
              "    <tr>\n",
              "      <th>horse</th>\n",
              "      <td>2</td>\n",
              "      <td>0</td>\n",
              "      <td>4</td>\n",
              "      <td>4</td>\n",
              "      <td>6</td>\n",
              "      <td>3</td>\n",
              "      <td>0</td>\n",
              "      <td>80</td>\n",
              "      <td>0</td>\n",
              "      <td>1</td>\n",
              "    </tr>\n",
              "    <tr>\n",
              "      <th>ship</th>\n",
              "      <td>8</td>\n",
              "      <td>4</td>\n",
              "      <td>1</td>\n",
              "      <td>1</td>\n",
              "      <td>1</td>\n",
              "      <td>0</td>\n",
              "      <td>1</td>\n",
              "      <td>1</td>\n",
              "      <td>80</td>\n",
              "      <td>3</td>\n",
              "    </tr>\n",
              "    <tr>\n",
              "      <th>truck</th>\n",
              "      <td>4</td>\n",
              "      <td>6</td>\n",
              "      <td>1</td>\n",
              "      <td>2</td>\n",
              "      <td>1</td>\n",
              "      <td>0</td>\n",
              "      <td>1</td>\n",
              "      <td>2</td>\n",
              "      <td>3</td>\n",
              "      <td>80</td>\n",
              "    </tr>\n",
              "  </tbody>\n",
              "</table>\n",
              "</div>"
            ],
            "text/plain": [
              "            airplane  automobile  bird  cat  ...  frog  horse  ship  truck\n",
              "airplane          78           1     6    1  ...     0      2     6      3\n",
              "automobile         2          84     0    0  ...     1      0     2     10\n",
              "bird               6           0    67    6  ...     5      3     0      1\n",
              "cat                2           1     8   52  ...     8      6     1      2\n",
              "deer               1           0     8    6  ...     4      5     1      0\n",
              "dog                1           0     8   18  ...     4      8     0      1\n",
              "frog               1           0     5    4  ...    83      2     1      0\n",
              "horse              2           0     4    4  ...     0     80     0      1\n",
              "ship               8           4     1    1  ...     1      1    80      3\n",
              "truck              4           6     1    2  ...     1      2     3     80\n",
              "\n",
              "[10 rows x 10 columns]"
            ]
          },
          "metadata": {
            "tags": []
          },
          "execution_count": 92
        }
      ]
    },
    {
      "cell_type": "code",
      "metadata": {
        "id": "CeQtAPw-GeqP",
        "colab_type": "code",
        "colab": {
          "base_uri": "https://localhost:8080/",
          "height": 363
        },
        "outputId": "d7bdf011-1bf5-4bc8-bd39-f4b4df9ee5da"
      },
      "source": [
        "cm_nor_c = np.around(confusion_matrix(test_labels[:,0], predictions2, normalize='pred') * 100, 0).astype(int) # en colonnes\n",
        "pd.DataFrame(cm_nor_c, index=class_names, columns=class_names)"
      ],
      "execution_count": 95,
      "outputs": [
        {
          "output_type": "execute_result",
          "data": {
            "text/html": [
              "<div>\n",
              "<style scoped>\n",
              "    .dataframe tbody tr th:only-of-type {\n",
              "        vertical-align: middle;\n",
              "    }\n",
              "\n",
              "    .dataframe tbody tr th {\n",
              "        vertical-align: top;\n",
              "    }\n",
              "\n",
              "    .dataframe thead th {\n",
              "        text-align: right;\n",
              "    }\n",
              "</style>\n",
              "<table border=\"1\" class=\"dataframe\">\n",
              "  <thead>\n",
              "    <tr style=\"text-align: right;\">\n",
              "      <th></th>\n",
              "      <th>airplane</th>\n",
              "      <th>automobile</th>\n",
              "      <th>bird</th>\n",
              "      <th>cat</th>\n",
              "      <th>deer</th>\n",
              "      <th>dog</th>\n",
              "      <th>frog</th>\n",
              "      <th>horse</th>\n",
              "      <th>ship</th>\n",
              "      <th>truck</th>\n",
              "    </tr>\n",
              "  </thead>\n",
              "  <tbody>\n",
              "    <tr>\n",
              "      <th>airplane</th>\n",
              "      <td>75</td>\n",
              "      <td>1</td>\n",
              "      <td>5</td>\n",
              "      <td>1</td>\n",
              "      <td>2</td>\n",
              "      <td>1</td>\n",
              "      <td>0</td>\n",
              "      <td>1</td>\n",
              "      <td>6</td>\n",
              "      <td>3</td>\n",
              "    </tr>\n",
              "    <tr>\n",
              "      <th>automobile</th>\n",
              "      <td>2</td>\n",
              "      <td>85</td>\n",
              "      <td>0</td>\n",
              "      <td>0</td>\n",
              "      <td>1</td>\n",
              "      <td>1</td>\n",
              "      <td>1</td>\n",
              "      <td>0</td>\n",
              "      <td>2</td>\n",
              "      <td>10</td>\n",
              "    </tr>\n",
              "    <tr>\n",
              "      <th>bird</th>\n",
              "      <td>6</td>\n",
              "      <td>0</td>\n",
              "      <td>61</td>\n",
              "      <td>6</td>\n",
              "      <td>8</td>\n",
              "      <td>4</td>\n",
              "      <td>4</td>\n",
              "      <td>3</td>\n",
              "      <td>1</td>\n",
              "      <td>1</td>\n",
              "    </tr>\n",
              "    <tr>\n",
              "      <th>cat</th>\n",
              "      <td>2</td>\n",
              "      <td>1</td>\n",
              "      <td>8</td>\n",
              "      <td>54</td>\n",
              "      <td>8</td>\n",
              "      <td>15</td>\n",
              "      <td>7</td>\n",
              "      <td>6</td>\n",
              "      <td>1</td>\n",
              "      <td>2</td>\n",
              "    </tr>\n",
              "    <tr>\n",
              "      <th>deer</th>\n",
              "      <td>1</td>\n",
              "      <td>0</td>\n",
              "      <td>8</td>\n",
              "      <td>7</td>\n",
              "      <td>66</td>\n",
              "      <td>2</td>\n",
              "      <td>4</td>\n",
              "      <td>5</td>\n",
              "      <td>1</td>\n",
              "      <td>0</td>\n",
              "    </tr>\n",
              "    <tr>\n",
              "      <th>dog</th>\n",
              "      <td>1</td>\n",
              "      <td>0</td>\n",
              "      <td>8</td>\n",
              "      <td>19</td>\n",
              "      <td>5</td>\n",
              "      <td>71</td>\n",
              "      <td>3</td>\n",
              "      <td>7</td>\n",
              "      <td>0</td>\n",
              "      <td>1</td>\n",
              "    </tr>\n",
              "    <tr>\n",
              "      <th>frog</th>\n",
              "      <td>1</td>\n",
              "      <td>0</td>\n",
              "      <td>5</td>\n",
              "      <td>5</td>\n",
              "      <td>2</td>\n",
              "      <td>1</td>\n",
              "      <td>78</td>\n",
              "      <td>1</td>\n",
              "      <td>1</td>\n",
              "      <td>0</td>\n",
              "    </tr>\n",
              "    <tr>\n",
              "      <th>horse</th>\n",
              "      <td>1</td>\n",
              "      <td>0</td>\n",
              "      <td>3</td>\n",
              "      <td>5</td>\n",
              "      <td>5</td>\n",
              "      <td>4</td>\n",
              "      <td>0</td>\n",
              "      <td>74</td>\n",
              "      <td>0</td>\n",
              "      <td>1</td>\n",
              "    </tr>\n",
              "    <tr>\n",
              "      <th>ship</th>\n",
              "      <td>8</td>\n",
              "      <td>4</td>\n",
              "      <td>1</td>\n",
              "      <td>1</td>\n",
              "      <td>1</td>\n",
              "      <td>1</td>\n",
              "      <td>1</td>\n",
              "      <td>1</td>\n",
              "      <td>86</td>\n",
              "      <td>3</td>\n",
              "    </tr>\n",
              "    <tr>\n",
              "      <th>truck</th>\n",
              "      <td>4</td>\n",
              "      <td>6</td>\n",
              "      <td>1</td>\n",
              "      <td>2</td>\n",
              "      <td>1</td>\n",
              "      <td>0</td>\n",
              "      <td>1</td>\n",
              "      <td>1</td>\n",
              "      <td>3</td>\n",
              "      <td>80</td>\n",
              "    </tr>\n",
              "  </tbody>\n",
              "</table>\n",
              "</div>"
            ],
            "text/plain": [
              "            airplane  automobile  bird  cat  ...  frog  horse  ship  truck\n",
              "airplane          75           1     5    1  ...     0      1     6      3\n",
              "automobile         2          85     0    0  ...     1      0     2     10\n",
              "bird               6           0    61    6  ...     4      3     1      1\n",
              "cat                2           1     8   54  ...     7      6     1      2\n",
              "deer               1           0     8    7  ...     4      5     1      0\n",
              "dog                1           0     8   19  ...     3      7     0      1\n",
              "frog               1           0     5    5  ...    78      1     1      0\n",
              "horse              1           0     3    5  ...     0     74     0      1\n",
              "ship               8           4     1    1  ...     1      1    86      3\n",
              "truck              4           6     1    2  ...     1      1     3     80\n",
              "\n",
              "[10 rows x 10 columns]"
            ]
          },
          "metadata": {
            "tags": []
          },
          "execution_count": 95
        }
      ]
    },
    {
      "cell_type": "markdown",
      "metadata": {
        "id": "FTTry7lnFCnw",
        "colab_type": "text"
      },
      "source": [
        "#### Modèle 3"
      ]
    },
    {
      "cell_type": "code",
      "metadata": {
        "id": "IM9R4kGJFmmz",
        "colab_type": "code",
        "colab": {
          "base_uri": "https://localhost:8080/",
          "height": 34
        },
        "outputId": "ff734142-7e4f-4e7e-ba5e-d2758fa3c18b"
      },
      "source": [
        "# on crée un vecteur contenant l'ensemble des prédictions\n",
        "predictions3 = np.argmax(model3.predict(test_images), axis=1)\n",
        "predictions3"
      ],
      "execution_count": 85,
      "outputs": [
        {
          "output_type": "execute_result",
          "data": {
            "text/plain": [
              "array([5, 9, 8, ..., 7, 6, 7])"
            ]
          },
          "metadata": {
            "tags": []
          },
          "execution_count": 85
        }
      ]
    },
    {
      "cell_type": "code",
      "metadata": {
        "id": "BiUn1z0WF8Ju",
        "colab_type": "code",
        "colab": {
          "base_uri": "https://localhost:8080/",
          "height": 363
        },
        "outputId": "e790e439-d5c4-4720-ef4f-00a9743e772e"
      },
      "source": [
        "cm = confusion_matrix(test_labels[:,0], predictions3)\n",
        "pd.DataFrame(cm, index=class_names, columns=class_names)"
      ],
      "execution_count": 89,
      "outputs": [
        {
          "output_type": "execute_result",
          "data": {
            "text/html": [
              "<div>\n",
              "<style scoped>\n",
              "    .dataframe tbody tr th:only-of-type {\n",
              "        vertical-align: middle;\n",
              "    }\n",
              "\n",
              "    .dataframe tbody tr th {\n",
              "        vertical-align: top;\n",
              "    }\n",
              "\n",
              "    .dataframe thead th {\n",
              "        text-align: right;\n",
              "    }\n",
              "</style>\n",
              "<table border=\"1\" class=\"dataframe\">\n",
              "  <thead>\n",
              "    <tr style=\"text-align: right;\">\n",
              "      <th></th>\n",
              "      <th>airplane</th>\n",
              "      <th>automobile</th>\n",
              "      <th>bird</th>\n",
              "      <th>cat</th>\n",
              "      <th>deer</th>\n",
              "      <th>dog</th>\n",
              "      <th>frog</th>\n",
              "      <th>horse</th>\n",
              "      <th>ship</th>\n",
              "      <th>truck</th>\n",
              "    </tr>\n",
              "  </thead>\n",
              "  <tbody>\n",
              "    <tr>\n",
              "      <th>airplane</th>\n",
              "      <td>476</td>\n",
              "      <td>25</td>\n",
              "      <td>0</td>\n",
              "      <td>28</td>\n",
              "      <td>11</td>\n",
              "      <td>16</td>\n",
              "      <td>30</td>\n",
              "      <td>121</td>\n",
              "      <td>243</td>\n",
              "      <td>50</td>\n",
              "    </tr>\n",
              "    <tr>\n",
              "      <th>automobile</th>\n",
              "      <td>45</td>\n",
              "      <td>298</td>\n",
              "      <td>0</td>\n",
              "      <td>49</td>\n",
              "      <td>10</td>\n",
              "      <td>16</td>\n",
              "      <td>65</td>\n",
              "      <td>86</td>\n",
              "      <td>178</td>\n",
              "      <td>253</td>\n",
              "    </tr>\n",
              "    <tr>\n",
              "      <th>bird</th>\n",
              "      <td>146</td>\n",
              "      <td>26</td>\n",
              "      <td>0</td>\n",
              "      <td>67</td>\n",
              "      <td>188</td>\n",
              "      <td>30</td>\n",
              "      <td>199</td>\n",
              "      <td>296</td>\n",
              "      <td>31</td>\n",
              "      <td>17</td>\n",
              "    </tr>\n",
              "    <tr>\n",
              "      <th>cat</th>\n",
              "      <td>52</td>\n",
              "      <td>77</td>\n",
              "      <td>0</td>\n",
              "      <td>121</td>\n",
              "      <td>87</td>\n",
              "      <td>52</td>\n",
              "      <td>234</td>\n",
              "      <td>308</td>\n",
              "      <td>37</td>\n",
              "      <td>32</td>\n",
              "    </tr>\n",
              "    <tr>\n",
              "      <th>deer</th>\n",
              "      <td>68</td>\n",
              "      <td>22</td>\n",
              "      <td>0</td>\n",
              "      <td>53</td>\n",
              "      <td>275</td>\n",
              "      <td>35</td>\n",
              "      <td>244</td>\n",
              "      <td>264</td>\n",
              "      <td>28</td>\n",
              "      <td>11</td>\n",
              "    </tr>\n",
              "    <tr>\n",
              "      <th>dog</th>\n",
              "      <td>64</td>\n",
              "      <td>51</td>\n",
              "      <td>0</td>\n",
              "      <td>87</td>\n",
              "      <td>123</td>\n",
              "      <td>45</td>\n",
              "      <td>178</td>\n",
              "      <td>383</td>\n",
              "      <td>41</td>\n",
              "      <td>28</td>\n",
              "    </tr>\n",
              "    <tr>\n",
              "      <th>frog</th>\n",
              "      <td>7</td>\n",
              "      <td>48</td>\n",
              "      <td>0</td>\n",
              "      <td>100</td>\n",
              "      <td>170</td>\n",
              "      <td>25</td>\n",
              "      <td>502</td>\n",
              "      <td>132</td>\n",
              "      <td>4</td>\n",
              "      <td>12</td>\n",
              "    </tr>\n",
              "    <tr>\n",
              "      <th>horse</th>\n",
              "      <td>66</td>\n",
              "      <td>34</td>\n",
              "      <td>0</td>\n",
              "      <td>94</td>\n",
              "      <td>132</td>\n",
              "      <td>48</td>\n",
              "      <td>115</td>\n",
              "      <td>401</td>\n",
              "      <td>60</td>\n",
              "      <td>50</td>\n",
              "    </tr>\n",
              "    <tr>\n",
              "      <th>ship</th>\n",
              "      <td>289</td>\n",
              "      <td>60</td>\n",
              "      <td>0</td>\n",
              "      <td>25</td>\n",
              "      <td>6</td>\n",
              "      <td>11</td>\n",
              "      <td>7</td>\n",
              "      <td>88</td>\n",
              "      <td>403</td>\n",
              "      <td>111</td>\n",
              "    </tr>\n",
              "    <tr>\n",
              "      <th>truck</th>\n",
              "      <td>58</td>\n",
              "      <td>218</td>\n",
              "      <td>0</td>\n",
              "      <td>42</td>\n",
              "      <td>10</td>\n",
              "      <td>8</td>\n",
              "      <td>52</td>\n",
              "      <td>71</td>\n",
              "      <td>240</td>\n",
              "      <td>301</td>\n",
              "    </tr>\n",
              "  </tbody>\n",
              "</table>\n",
              "</div>"
            ],
            "text/plain": [
              "            airplane  automobile  bird  cat  ...  frog  horse  ship  truck\n",
              "airplane         476          25     0   28  ...    30    121   243     50\n",
              "automobile        45         298     0   49  ...    65     86   178    253\n",
              "bird             146          26     0   67  ...   199    296    31     17\n",
              "cat               52          77     0  121  ...   234    308    37     32\n",
              "deer              68          22     0   53  ...   244    264    28     11\n",
              "dog               64          51     0   87  ...   178    383    41     28\n",
              "frog               7          48     0  100  ...   502    132     4     12\n",
              "horse             66          34     0   94  ...   115    401    60     50\n",
              "ship             289          60     0   25  ...     7     88   403    111\n",
              "truck             58         218     0   42  ...    52     71   240    301\n",
              "\n",
              "[10 rows x 10 columns]"
            ]
          },
          "metadata": {
            "tags": []
          },
          "execution_count": 89
        }
      ]
    },
    {
      "cell_type": "code",
      "metadata": {
        "id": "ISDfQJdmGNFd",
        "colab_type": "code",
        "colab": {
          "base_uri": "https://localhost:8080/",
          "height": 363
        },
        "outputId": "a0e8aecc-3532-4fc3-cf48-3ed345585702"
      },
      "source": [
        "cm_nor_l = np.around(confusion_matrix(test_labels[:,0], predictions3, normalize='true') * 100, 0).astype(int) # en lignes\n",
        "pd.DataFrame(cm_nor_l, index=class_names, columns=class_names)"
      ],
      "execution_count": 93,
      "outputs": [
        {
          "output_type": "execute_result",
          "data": {
            "text/html": [
              "<div>\n",
              "<style scoped>\n",
              "    .dataframe tbody tr th:only-of-type {\n",
              "        vertical-align: middle;\n",
              "    }\n",
              "\n",
              "    .dataframe tbody tr th {\n",
              "        vertical-align: top;\n",
              "    }\n",
              "\n",
              "    .dataframe thead th {\n",
              "        text-align: right;\n",
              "    }\n",
              "</style>\n",
              "<table border=\"1\" class=\"dataframe\">\n",
              "  <thead>\n",
              "    <tr style=\"text-align: right;\">\n",
              "      <th></th>\n",
              "      <th>airplane</th>\n",
              "      <th>automobile</th>\n",
              "      <th>bird</th>\n",
              "      <th>cat</th>\n",
              "      <th>deer</th>\n",
              "      <th>dog</th>\n",
              "      <th>frog</th>\n",
              "      <th>horse</th>\n",
              "      <th>ship</th>\n",
              "      <th>truck</th>\n",
              "    </tr>\n",
              "  </thead>\n",
              "  <tbody>\n",
              "    <tr>\n",
              "      <th>airplane</th>\n",
              "      <td>48</td>\n",
              "      <td>2</td>\n",
              "      <td>0</td>\n",
              "      <td>3</td>\n",
              "      <td>1</td>\n",
              "      <td>2</td>\n",
              "      <td>3</td>\n",
              "      <td>12</td>\n",
              "      <td>24</td>\n",
              "      <td>5</td>\n",
              "    </tr>\n",
              "    <tr>\n",
              "      <th>automobile</th>\n",
              "      <td>4</td>\n",
              "      <td>30</td>\n",
              "      <td>0</td>\n",
              "      <td>5</td>\n",
              "      <td>1</td>\n",
              "      <td>2</td>\n",
              "      <td>6</td>\n",
              "      <td>9</td>\n",
              "      <td>18</td>\n",
              "      <td>25</td>\n",
              "    </tr>\n",
              "    <tr>\n",
              "      <th>bird</th>\n",
              "      <td>15</td>\n",
              "      <td>3</td>\n",
              "      <td>0</td>\n",
              "      <td>7</td>\n",
              "      <td>19</td>\n",
              "      <td>3</td>\n",
              "      <td>20</td>\n",
              "      <td>30</td>\n",
              "      <td>3</td>\n",
              "      <td>2</td>\n",
              "    </tr>\n",
              "    <tr>\n",
              "      <th>cat</th>\n",
              "      <td>5</td>\n",
              "      <td>8</td>\n",
              "      <td>0</td>\n",
              "      <td>12</td>\n",
              "      <td>9</td>\n",
              "      <td>5</td>\n",
              "      <td>23</td>\n",
              "      <td>31</td>\n",
              "      <td>4</td>\n",
              "      <td>3</td>\n",
              "    </tr>\n",
              "    <tr>\n",
              "      <th>deer</th>\n",
              "      <td>7</td>\n",
              "      <td>2</td>\n",
              "      <td>0</td>\n",
              "      <td>5</td>\n",
              "      <td>28</td>\n",
              "      <td>4</td>\n",
              "      <td>24</td>\n",
              "      <td>26</td>\n",
              "      <td>3</td>\n",
              "      <td>1</td>\n",
              "    </tr>\n",
              "    <tr>\n",
              "      <th>dog</th>\n",
              "      <td>6</td>\n",
              "      <td>5</td>\n",
              "      <td>0</td>\n",
              "      <td>9</td>\n",
              "      <td>12</td>\n",
              "      <td>4</td>\n",
              "      <td>18</td>\n",
              "      <td>38</td>\n",
              "      <td>4</td>\n",
              "      <td>3</td>\n",
              "    </tr>\n",
              "    <tr>\n",
              "      <th>frog</th>\n",
              "      <td>1</td>\n",
              "      <td>5</td>\n",
              "      <td>0</td>\n",
              "      <td>10</td>\n",
              "      <td>17</td>\n",
              "      <td>2</td>\n",
              "      <td>50</td>\n",
              "      <td>13</td>\n",
              "      <td>0</td>\n",
              "      <td>1</td>\n",
              "    </tr>\n",
              "    <tr>\n",
              "      <th>horse</th>\n",
              "      <td>7</td>\n",
              "      <td>3</td>\n",
              "      <td>0</td>\n",
              "      <td>9</td>\n",
              "      <td>13</td>\n",
              "      <td>5</td>\n",
              "      <td>12</td>\n",
              "      <td>40</td>\n",
              "      <td>6</td>\n",
              "      <td>5</td>\n",
              "    </tr>\n",
              "    <tr>\n",
              "      <th>ship</th>\n",
              "      <td>29</td>\n",
              "      <td>6</td>\n",
              "      <td>0</td>\n",
              "      <td>2</td>\n",
              "      <td>1</td>\n",
              "      <td>1</td>\n",
              "      <td>1</td>\n",
              "      <td>9</td>\n",
              "      <td>40</td>\n",
              "      <td>11</td>\n",
              "    </tr>\n",
              "    <tr>\n",
              "      <th>truck</th>\n",
              "      <td>6</td>\n",
              "      <td>22</td>\n",
              "      <td>0</td>\n",
              "      <td>4</td>\n",
              "      <td>1</td>\n",
              "      <td>1</td>\n",
              "      <td>5</td>\n",
              "      <td>7</td>\n",
              "      <td>24</td>\n",
              "      <td>30</td>\n",
              "    </tr>\n",
              "  </tbody>\n",
              "</table>\n",
              "</div>"
            ],
            "text/plain": [
              "            airplane  automobile  bird  cat  ...  frog  horse  ship  truck\n",
              "airplane          48           2     0    3  ...     3     12    24      5\n",
              "automobile         4          30     0    5  ...     6      9    18     25\n",
              "bird              15           3     0    7  ...    20     30     3      2\n",
              "cat                5           8     0   12  ...    23     31     4      3\n",
              "deer               7           2     0    5  ...    24     26     3      1\n",
              "dog                6           5     0    9  ...    18     38     4      3\n",
              "frog               1           5     0   10  ...    50     13     0      1\n",
              "horse              7           3     0    9  ...    12     40     6      5\n",
              "ship              29           6     0    2  ...     1      9    40     11\n",
              "truck              6          22     0    4  ...     5      7    24     30\n",
              "\n",
              "[10 rows x 10 columns]"
            ]
          },
          "metadata": {
            "tags": []
          },
          "execution_count": 93
        }
      ]
    },
    {
      "cell_type": "code",
      "metadata": {
        "id": "nf8WEveJGanb",
        "colab_type": "code",
        "colab": {
          "base_uri": "https://localhost:8080/",
          "height": 363
        },
        "outputId": "fdde87b9-3b0a-47ed-d9ee-7f20685afa19"
      },
      "source": [
        "cm_nor_c = np.around(confusion_matrix(test_labels[:,0], predictions3, normalize='pred') * 100, 0).astype(int) # en colonnes\n",
        "pd.DataFrame(cm_nor_c, index=class_names, columns=class_names)"
      ],
      "execution_count": 94,
      "outputs": [
        {
          "output_type": "execute_result",
          "data": {
            "text/html": [
              "<div>\n",
              "<style scoped>\n",
              "    .dataframe tbody tr th:only-of-type {\n",
              "        vertical-align: middle;\n",
              "    }\n",
              "\n",
              "    .dataframe tbody tr th {\n",
              "        vertical-align: top;\n",
              "    }\n",
              "\n",
              "    .dataframe thead th {\n",
              "        text-align: right;\n",
              "    }\n",
              "</style>\n",
              "<table border=\"1\" class=\"dataframe\">\n",
              "  <thead>\n",
              "    <tr style=\"text-align: right;\">\n",
              "      <th></th>\n",
              "      <th>airplane</th>\n",
              "      <th>automobile</th>\n",
              "      <th>bird</th>\n",
              "      <th>cat</th>\n",
              "      <th>deer</th>\n",
              "      <th>dog</th>\n",
              "      <th>frog</th>\n",
              "      <th>horse</th>\n",
              "      <th>ship</th>\n",
              "      <th>truck</th>\n",
              "    </tr>\n",
              "  </thead>\n",
              "  <tbody>\n",
              "    <tr>\n",
              "      <th>airplane</th>\n",
              "      <td>37</td>\n",
              "      <td>3</td>\n",
              "      <td>0</td>\n",
              "      <td>4</td>\n",
              "      <td>1</td>\n",
              "      <td>6</td>\n",
              "      <td>2</td>\n",
              "      <td>6</td>\n",
              "      <td>19</td>\n",
              "      <td>6</td>\n",
              "    </tr>\n",
              "    <tr>\n",
              "      <th>automobile</th>\n",
              "      <td>4</td>\n",
              "      <td>35</td>\n",
              "      <td>0</td>\n",
              "      <td>7</td>\n",
              "      <td>1</td>\n",
              "      <td>6</td>\n",
              "      <td>4</td>\n",
              "      <td>4</td>\n",
              "      <td>14</td>\n",
              "      <td>29</td>\n",
              "    </tr>\n",
              "    <tr>\n",
              "      <th>bird</th>\n",
              "      <td>11</td>\n",
              "      <td>3</td>\n",
              "      <td>0</td>\n",
              "      <td>10</td>\n",
              "      <td>19</td>\n",
              "      <td>10</td>\n",
              "      <td>12</td>\n",
              "      <td>14</td>\n",
              "      <td>2</td>\n",
              "      <td>2</td>\n",
              "    </tr>\n",
              "    <tr>\n",
              "      <th>cat</th>\n",
              "      <td>4</td>\n",
              "      <td>9</td>\n",
              "      <td>0</td>\n",
              "      <td>18</td>\n",
              "      <td>9</td>\n",
              "      <td>18</td>\n",
              "      <td>14</td>\n",
              "      <td>14</td>\n",
              "      <td>3</td>\n",
              "      <td>4</td>\n",
              "    </tr>\n",
              "    <tr>\n",
              "      <th>deer</th>\n",
              "      <td>5</td>\n",
              "      <td>3</td>\n",
              "      <td>0</td>\n",
              "      <td>8</td>\n",
              "      <td>27</td>\n",
              "      <td>12</td>\n",
              "      <td>15</td>\n",
              "      <td>12</td>\n",
              "      <td>2</td>\n",
              "      <td>1</td>\n",
              "    </tr>\n",
              "    <tr>\n",
              "      <th>dog</th>\n",
              "      <td>5</td>\n",
              "      <td>6</td>\n",
              "      <td>0</td>\n",
              "      <td>13</td>\n",
              "      <td>12</td>\n",
              "      <td>16</td>\n",
              "      <td>11</td>\n",
              "      <td>18</td>\n",
              "      <td>3</td>\n",
              "      <td>3</td>\n",
              "    </tr>\n",
              "    <tr>\n",
              "      <th>frog</th>\n",
              "      <td>1</td>\n",
              "      <td>6</td>\n",
              "      <td>0</td>\n",
              "      <td>15</td>\n",
              "      <td>17</td>\n",
              "      <td>9</td>\n",
              "      <td>31</td>\n",
              "      <td>6</td>\n",
              "      <td>0</td>\n",
              "      <td>1</td>\n",
              "    </tr>\n",
              "    <tr>\n",
              "      <th>horse</th>\n",
              "      <td>5</td>\n",
              "      <td>4</td>\n",
              "      <td>0</td>\n",
              "      <td>14</td>\n",
              "      <td>13</td>\n",
              "      <td>17</td>\n",
              "      <td>7</td>\n",
              "      <td>19</td>\n",
              "      <td>5</td>\n",
              "      <td>6</td>\n",
              "    </tr>\n",
              "    <tr>\n",
              "      <th>ship</th>\n",
              "      <td>23</td>\n",
              "      <td>7</td>\n",
              "      <td>0</td>\n",
              "      <td>4</td>\n",
              "      <td>1</td>\n",
              "      <td>4</td>\n",
              "      <td>0</td>\n",
              "      <td>4</td>\n",
              "      <td>32</td>\n",
              "      <td>13</td>\n",
              "    </tr>\n",
              "    <tr>\n",
              "      <th>truck</th>\n",
              "      <td>5</td>\n",
              "      <td>25</td>\n",
              "      <td>0</td>\n",
              "      <td>6</td>\n",
              "      <td>1</td>\n",
              "      <td>3</td>\n",
              "      <td>3</td>\n",
              "      <td>3</td>\n",
              "      <td>19</td>\n",
              "      <td>35</td>\n",
              "    </tr>\n",
              "  </tbody>\n",
              "</table>\n",
              "</div>"
            ],
            "text/plain": [
              "            airplane  automobile  bird  cat  ...  frog  horse  ship  truck\n",
              "airplane          37           3     0    4  ...     2      6    19      6\n",
              "automobile         4          35     0    7  ...     4      4    14     29\n",
              "bird              11           3     0   10  ...    12     14     2      2\n",
              "cat                4           9     0   18  ...    14     14     3      4\n",
              "deer               5           3     0    8  ...    15     12     2      1\n",
              "dog                5           6     0   13  ...    11     18     3      3\n",
              "frog               1           6     0   15  ...    31      6     0      1\n",
              "horse              5           4     0   14  ...     7     19     5      6\n",
              "ship              23           7     0    4  ...     0      4    32     13\n",
              "truck              5          25     0    6  ...     3      3    19     35\n",
              "\n",
              "[10 rows x 10 columns]"
            ]
          },
          "metadata": {
            "tags": []
          },
          "execution_count": 94
        }
      ]
    }
  ]
}