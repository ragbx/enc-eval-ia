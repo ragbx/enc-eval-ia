{
  "nbformat": 4,
  "nbformat_minor": 0,
  "metadata": {
    "colab": {
      "name": "enc-eval-ia_question2.ipynb",
      "provenance": [],
      "toc_visible": true
    },
    "kernelspec": {
      "name": "python3",
      "display_name": "Python 3"
    }
  },
  "cells": [
    {
      "cell_type": "markdown",
      "metadata": {
        "id": "RuIXuOua_Z7i",
        "colab_type": "text"
      },
      "source": [
        "# ENC - master Humanités numériques\n",
        "\n",
        "# Évaluation pour le cours d'apprentissage machine : question 2"
      ]
    },
    {
      "cell_type": "markdown",
      "metadata": {
        "id": "WT6akgGYJRZa",
        "colab_type": "text"
      },
      "source": [
        "## Question : Random forest sur MNIST\n",
        "Proposez un code permettant d'effectuer des prédictions des catégories de MNIST en utilisant un algorithme de random forest.\\\n",
        "Evaluez la performance avec une cross-validation."
      ]
    },
    {
      "cell_type": "markdown",
      "metadata": {
        "id": "RCnYrCQjm7Dl",
        "colab_type": "text"
      },
      "source": [
        "## Mise en oeuvre"
      ]
    },
    {
      "cell_type": "markdown",
      "metadata": {
        "id": "lju3M01rJSdq",
        "colab_type": "text"
      },
      "source": [
        "### On importe les différents modules et le jeu de données"
      ]
    },
    {
      "cell_type": "code",
      "metadata": {
        "id": "emUqBHb2ESUX",
        "colab_type": "code",
        "colab": {}
      },
      "source": [
        "from __future__ import absolute_import, division, print_function, unicode_literals\n",
        "\n",
        "try:\n",
        "  # %tensorflow_version only exists in Colab.\n",
        "  %tensorflow_version 2.x\n",
        "except Exception:\n",
        "  pass\n",
        "\n",
        "import tensorflow as tf\n",
        "\n",
        "from sklearn.ensemble import RandomForestClassifier\n",
        "from sklearn.model_selection import cross_val_score\n",
        "\n",
        "import numpy as np\n",
        "import pandas as pd"
      ],
      "execution_count": 0,
      "outputs": []
    },
    {
      "cell_type": "code",
      "metadata": {
        "id": "aTOCLAwhEV0f",
        "colab_type": "code",
        "outputId": "6ca54be0-8e5a-41ca-98d8-59c68d48f4d5",
        "colab": {
          "base_uri": "https://localhost:8080/",
          "height": 52
        }
      },
      "source": [
        "mnist = tf.keras.datasets.mnist\n",
        "\n",
        "(x_train, y_train), (x_test, y_test) = mnist.load_data()\n"
      ],
      "execution_count": 0,
      "outputs": [
        {
          "output_type": "stream",
          "text": [
            "Downloading data from https://storage.googleapis.com/tensorflow/tf-keras-datasets/mnist.npz\n",
            "11493376/11490434 [==============================] - 0s 0us/step\n"
          ],
          "name": "stdout"
        }
      ]
    },
    {
      "cell_type": "code",
      "metadata": {
        "id": "bAchgrEhQeof",
        "colab_type": "code",
        "outputId": "31c1373e-cfab-4261-c4be-8e43763d8341",
        "colab": {
          "base_uri": "https://localhost:8080/",
          "height": 86
        }
      },
      "source": [
        "print(f\"x_train : {x_train.shape}\")\n",
        "print(f\"x_test : {x_test.shape}\")\n",
        "print(f\"y_train : {y_train.shape}\")\n",
        "print(f\"y_test : {y_test.shape}\")"
      ],
      "execution_count": 0,
      "outputs": [
        {
          "output_type": "stream",
          "text": [
            "x_train : (60000, 28, 28)\n",
            "x_test : (10000, 28, 28)\n",
            "y_train : (60000,)\n",
            "y_test : (10000,)\n"
          ],
          "name": "stdout"
        }
      ]
    },
    {
      "cell_type": "markdown",
      "metadata": {
        "id": "JIeYtD9-oS6E",
        "colab_type": "text"
      },
      "source": [
        "On transforme les jeux d'images en tableaux."
      ]
    },
    {
      "cell_type": "code",
      "metadata": {
        "id": "65LAHG10bbwr",
        "colab_type": "code",
        "colab": {}
      },
      "source": [
        "flat_x_train = x_train.reshape(60000,784)\n",
        "flat_x_test = x_test.reshape(10000,784)"
      ],
      "execution_count": 0,
      "outputs": []
    },
    {
      "cell_type": "markdown",
      "metadata": {
        "id": "ftcPgkRlnuUv",
        "colab_type": "text"
      },
      "source": [
        "On normalise la valeur des pixels."
      ]
    },
    {
      "cell_type": "code",
      "metadata": {
        "id": "bxy_1_k1MivQ",
        "colab_type": "code",
        "colab": {}
      },
      "source": [
        "flat_x_train = flat_x_train / 255\n",
        "flat_x_test = flat_x_test / 255"
      ],
      "execution_count": 0,
      "outputs": []
    },
    {
      "cell_type": "markdown",
      "metadata": {
        "id": "c2EWt9rzKHh7",
        "colab_type": "text"
      },
      "source": [
        "### Modèle"
      ]
    },
    {
      "cell_type": "markdown",
      "metadata": {
        "id": "y9hkZtW3ot4G",
        "colab_type": "text"
      },
      "source": [
        "#### On crée le modèle"
      ]
    },
    {
      "cell_type": "code",
      "metadata": {
        "id": "PHm6GQJ5NF5w",
        "colab_type": "code",
        "colab": {}
      },
      "source": [
        "rfc = RandomForestClassifier(n_estimators=200, random_state=5)"
      ],
      "execution_count": 0,
      "outputs": []
    },
    {
      "cell_type": "markdown",
      "metadata": {
        "id": "re0NAX9io0j2",
        "colab_type": "text"
      },
      "source": [
        "#### On entraîne le modèle"
      ]
    },
    {
      "cell_type": "code",
      "metadata": {
        "id": "WVrJxEyvNQlr",
        "colab_type": "code",
        "outputId": "d13668f2-21f6-47fa-f8e7-c10f758690a1",
        "colab": {
          "base_uri": "https://localhost:8080/",
          "height": 156
        }
      },
      "source": [
        "rfc.fit(flat_x_train, y_train)"
      ],
      "execution_count": 0,
      "outputs": [
        {
          "output_type": "execute_result",
          "data": {
            "text/plain": [
              "RandomForestClassifier(bootstrap=True, ccp_alpha=0.0, class_weight=None,\n",
              "                       criterion='gini', max_depth=None, max_features='auto',\n",
              "                       max_leaf_nodes=None, max_samples=None,\n",
              "                       min_impurity_decrease=0.0, min_impurity_split=None,\n",
              "                       min_samples_leaf=1, min_samples_split=2,\n",
              "                       min_weight_fraction_leaf=0.0, n_estimators=200,\n",
              "                       n_jobs=None, oob_score=False, random_state=5, verbose=0,\n",
              "                       warm_start=False)"
            ]
          },
          "metadata": {
            "tags": []
          },
          "execution_count": 8
        }
      ]
    },
    {
      "cell_type": "markdown",
      "metadata": {
        "id": "WvhHoInJpaSp",
        "colab_type": "text"
      },
      "source": [
        "#### On évalue le modèle sur les données de test.\n",
        "\n"
      ]
    },
    {
      "cell_type": "code",
      "metadata": {
        "id": "YWgkWAsDSV7h",
        "colab_type": "code",
        "outputId": "6caadd59-6695-42a7-f083-81b733929ce9",
        "colab": {
          "base_uri": "https://localhost:8080/",
          "height": 34
        }
      },
      "source": [
        "print(f\"Le modèle obtient un taux de validité des prédictions de {rfc.score(flat_x_test, y_test)}.\")"
      ],
      "execution_count": 0,
      "outputs": [
        {
          "output_type": "stream",
          "text": [
            "Le modèle obtient un taux de validité des prédictions de 0.9705.\n"
          ],
          "name": "stdout"
        }
      ]
    },
    {
      "cell_type": "markdown",
      "metadata": {
        "id": "d8DQyd6ErVtl",
        "colab_type": "text"
      },
      "source": [
        "#### On évalue ensuite le modèle par validation croisée."
      ]
    },
    {
      "cell_type": "markdown",
      "metadata": {
        "id": "cuDxXl3Yr2o2",
        "colab_type": "text"
      },
      "source": [
        "Le programme va générer lui-même les données d'entraînement et de test, on peut donc recréer un jeu unique."
      ]
    },
    {
      "cell_type": "code",
      "metadata": {
        "id": "gZUeDH72ZG0S",
        "colab_type": "code",
        "outputId": "d6460c81-c991-4c1f-c29f-cce4a857dadd",
        "colab": {
          "base_uri": "https://localhost:8080/",
          "height": 52
        }
      },
      "source": [
        "flat_x = np.concatenate([flat_x_train, flat_x_test], axis=0)\n",
        "print(flat_x.shape)\n",
        "y = np.concatenate([y_train, y_test], axis=0)\n",
        "print(y.shape)"
      ],
      "execution_count": 0,
      "outputs": [
        {
          "output_type": "stream",
          "text": [
            "(70000, 784)\n",
            "(70000,)\n"
          ],
          "name": "stdout"
        }
      ]
    },
    {
      "cell_type": "markdown",
      "metadata": {
        "id": "Ns1R8sVmsNjP",
        "colab_type": "text"
      },
      "source": [
        "On lance une validation croisée (*k-fold cross validation*) à 5 plis (i.e. le programme va partager le jeu en 5 parties)."
      ]
    },
    {
      "cell_type": "code",
      "metadata": {
        "id": "EJpOqP7PYnd-",
        "colab_type": "code",
        "colab": {}
      },
      "source": [
        "rfc_cv_score = cross_val_score(rfc, flat_x, y, cv=5)"
      ],
      "execution_count": 0,
      "outputs": []
    },
    {
      "cell_type": "markdown",
      "metadata": {
        "id": "Fwp1xifmwmqr",
        "colab_type": "text"
      },
      "source": [
        "Pour chacune des 5 parties, on obtient les taux suivant de validité des prédictions :"
      ]
    },
    {
      "cell_type": "code",
      "metadata": {
        "id": "I8kRatdFw-Wp",
        "colab_type": "code",
        "outputId": "6fc1db66-ecaa-4f3b-94c7-47d1b624ae07",
        "colab": {
          "base_uri": "https://localhost:8080/",
          "height": 34
        }
      },
      "source": [
        "print(rfc_cv_score)"
      ],
      "execution_count": 0,
      "outputs": [
        {
          "output_type": "stream",
          "text": [
            "[0.96957143 0.96871429 0.96664286 0.96635714 0.97292857]\n"
          ],
          "name": "stdout"
        }
      ]
    },
    {
      "cell_type": "markdown",
      "metadata": {
        "id": "Ot-Q9XtRyAxO",
        "colab_type": "text"
      },
      "source": [
        "On calcule la moyenne et la variance des 5 scores :"
      ]
    },
    {
      "cell_type": "code",
      "metadata": {
        "id": "d6sUDbsOf-MP",
        "colab_type": "code",
        "outputId": "7d75df79-4814-4451-e77c-7fc2891d43bb",
        "colab": {
          "base_uri": "https://localhost:8080/",
          "height": 34
        }
      },
      "source": [
        "print(f\"Score moyen : {rfc_cv_score.mean()}, variance : {rfc_cv_score.std() * 2}\")"
      ],
      "execution_count": 0,
      "outputs": [
        {
          "output_type": "stream",
          "text": [
            "Score moyen : 0.968842857142857, variance : 0.0047547183869053695\n"
          ],
          "name": "stdout"
        }
      ]
    },
    {
      "cell_type": "markdown",
      "metadata": {
        "id": "oPGMrWFUy2Vv",
        "colab_type": "text"
      },
      "source": [
        "**Interprétation**\\\n",
        "Le modèle obtient un taux d'exactitude moyen de 96,88 %.\\\n",
        "L'écart entre chacun des scores obtenus est très faible, le modèle est très peu dépendant des parties du jeu de données."
      ]
    }
  ]
}