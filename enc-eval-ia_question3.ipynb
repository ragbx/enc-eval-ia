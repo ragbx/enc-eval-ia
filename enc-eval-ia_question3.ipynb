{
  "nbformat": 4,
  "nbformat_minor": 0,
  "metadata": {
    "colab": {
      "name": "enc-eval-ia_question3.ipynb",
      "provenance": []
    },
    "kernelspec": {
      "name": "python3",
      "display_name": "Python 3"
    }
  },
  "cells": [
    {
      "cell_type": "code",
      "metadata": {
        "id": "0bbj04YZJ2vs",
        "colab_type": "code",
        "colab": {}
      },
      "source": [
        "from __future__ import absolute_import, division, print_function, unicode_literals\n",
        "\n",
        "try:\n",
        "  # %tensorflow_version only exists in Colab.\n",
        "  %tensorflow_version 2.x\n",
        "except Exception:\n",
        "  pass\n",
        "import tensorflow as tf\n",
        "\n",
        "from tensorflow.keras import datasets, layers, models\n",
        "import matplotlib.pyplot as plt"
      ],
      "execution_count": 0,
      "outputs": []
    },
    {
      "cell_type": "code",
      "metadata": {
        "id": "lbynFoy1J5K9",
        "colab_type": "code",
        "outputId": "be211326-fe10-48b0-eade-66347296347c",
        "colab": {
          "base_uri": "https://localhost:8080/",
          "height": 52
        }
      },
      "source": [
        "(x_train, y_train), (x_test, y_test) = datasets.cifar10.load_data()\n",
        "\n",
        "# Normalize pixel values to be between 0 and 1\n",
        "x_train, x_test = x_train / 255.0, x_test / 255.0\n",
        "\n",
        "class_names = ['airplane', 'automobile', 'bird', 'cat', 'deer',\n",
        "               'dog', 'frog', 'horse', 'ship', 'truck']"
      ],
      "execution_count": 0,
      "outputs": [
        {
          "output_type": "stream",
          "text": [
            "Downloading data from https://www.cs.toronto.edu/~kriz/cifar-10-python.tar.gz\n",
            "170500096/170498071 [==============================] - 4s 0us/step\n"
          ],
          "name": "stdout"
        }
      ]
    },
    {
      "cell_type": "code",
      "metadata": {
        "id": "9B59IzgoKEvn",
        "colab_type": "code",
        "outputId": "39c5634c-c590-4590-bf38-683f56f1022a",
        "colab": {
          "base_uri": "https://localhost:8080/",
          "height": 86
        }
      },
      "source": [
        "print(f\"x_train : {x_train.shape}\")\n",
        "print(f\"x_test : {x_test.shape}\")\n",
        "print(f\"y_train : {y_train.shape}\")\n",
        "print(f\"y_test : {y_test.shape}\")"
      ],
      "execution_count": 0,
      "outputs": [
        {
          "output_type": "stream",
          "text": [
            "x_train : (50000, 32, 32, 3)\n",
            "x_test : (10000, 32, 32, 3)\n",
            "y_train : (50000, 1)\n",
            "y_test : (10000, 1)\n"
          ],
          "name": "stdout"
        }
      ]
    },
    {
      "cell_type": "code",
      "metadata": {
        "id": "_9_7stZ5Koo1",
        "colab_type": "code",
        "colab": {}
      },
      "source": [
        "flat_x_train = x_train.reshape(50000,3072)\n",
        "flat_x_test = x_test.reshape(10000,3072)"
      ],
      "execution_count": 0,
      "outputs": []
    },
    {
      "cell_type": "code",
      "metadata": {
        "id": "OYHh-QD-Mjax",
        "colab_type": "code",
        "colab": {}
      },
      "source": [
        "from sklearn.cluster import KMeans"
      ],
      "execution_count": 0,
      "outputs": []
    },
    {
      "cell_type": "code",
      "metadata": {
        "id": "B2VAVUbRMot7",
        "colab_type": "code",
        "colab": {}
      },
      "source": [
        "kmeans = KMeans(n_clusters=10, random_state=0).fit(flat_x_train)"
      ],
      "execution_count": 0,
      "outputs": []
    },
    {
      "cell_type": "code",
      "metadata": {
        "id": "0mA3XKryQbpW",
        "colab_type": "code",
        "colab": {}
      },
      "source": [
        "from joblib import dump"
      ],
      "execution_count": 0,
      "outputs": []
    },
    {
      "cell_type": "code",
      "metadata": {
        "id": "YVGL-wGsQhbW",
        "colab_type": "code",
        "outputId": "264feae8-ef01-4f21-b7e3-46ebedcabebe",
        "colab": {
          "base_uri": "https://localhost:8080/",
          "height": 34
        }
      },
      "source": [
        "dump(kmeans, 'exo3_kmeans.joblib') "
      ],
      "execution_count": 0,
      "outputs": [
        {
          "output_type": "execute_result",
          "data": {
            "text/plain": [
              "['exo3_kmeans.joblib']"
            ]
          },
          "metadata": {
            "tags": []
          },
          "execution_count": 14
        }
      ]
    },
    {
      "cell_type": "code",
      "metadata": {
        "id": "m-tu1zngQw3x",
        "colab_type": "code",
        "colab": {}
      },
      "source": [
        "cp exo3_kmeans.joblib drive/My\\ Drive/."
      ],
      "execution_count": 0,
      "outputs": []
    },
    {
      "cell_type": "code",
      "metadata": {
        "id": "HZVe0DMcPdcz",
        "colab_type": "code",
        "outputId": "28dffe9f-9526-446d-b9b3-38f1c6eb5314",
        "colab": {
          "base_uri": "https://localhost:8080/",
          "height": 34
        }
      },
      "source": [
        "kmeans.labels_"
      ],
      "execution_count": 0,
      "outputs": [
        {
          "output_type": "execute_result",
          "data": {
            "text/plain": [
              "array([7, 9, 4, ..., 4, 2, 8], dtype=int32)"
            ]
          },
          "metadata": {
            "tags": []
          },
          "execution_count": 12
        }
      ]
    },
    {
      "cell_type": "code",
      "metadata": {
        "id": "Vw28j6AoaKHY",
        "colab_type": "code",
        "colab": {}
      },
      "source": [
        "#import pandas as pd\n",
        "class_names = ['airplane', 'automobile', 'bird', 'cat', 'deer',\n",
        "               'dog', 'frog', 'horse', 'ship', 'truck']\n",
        "df = pd.DataFrame({'label': y_train[:,0], 'kgroup': kmeans.labels_})\n",
        "df.groupby(['kgroup', 'label'])['label'].count().to_csv('test.csv', header=True, index=True)"
      ],
      "execution_count": 0,
      "outputs": []
    },
    {
      "cell_type": "markdown",
      "metadata": {
        "id": "bs0uwZPyf1zF",
        "colab_type": "text"
      },
      "source": [
        "group\tlabel\n",
        "1\t0\n",
        "5\t0\n",
        "3\t2\n",
        "7\t4\n",
        "0\t6\n",
        "6\t6\n",
        "2\t8\n",
        "9\t8\n",
        "4\t9\n",
        "8\t9"
      ]
    },
    {
      "cell_type": "code",
      "metadata": {
        "id": "jT_FA_pROO9x",
        "colab_type": "code",
        "colab": {}
      },
      "source": [
        "from sklearn.manifold import TSNE\n",
        "tsne = TSNE(random_state=42)"
      ],
      "execution_count": 0,
      "outputs": []
    },
    {
      "cell_type": "markdown",
      "metadata": {
        "id": "8Pir6ST2PkNf",
        "colab_type": "text"
      },
      "source": [
        ""
      ]
    },
    {
      "cell_type": "code",
      "metadata": {
        "id": "R9puYNPOOXBr",
        "colab_type": "code",
        "colab": {}
      },
      "source": [
        "tsne_cifar = tsne.fit_transform(flat_x_train)"
      ],
      "execution_count": 0,
      "outputs": []
    },
    {
      "cell_type": "code",
      "metadata": {
        "id": "ykXPh_cAO9pU",
        "colab_type": "code",
        "colab": {}
      },
      "source": [
        "plt.figure(figsize=(10, 10))\n",
        "plt.xlim(tsne_cifar[:, 0].min(), tsne_cifar[:, 0].max() + 1)\n",
        "plt.ylim(tsne_cifar[:, 1].min(), tsne_cifar[:, 1].max() + 1)\n",
        "for i in range(len(flat_x_train)):\n",
        "    # actually plot the digits as text instead of using scatter\n",
        "    plt.text(tsne_cifar[i, 0], tsne_cifar[i, 1], str(flat_y_train[i]),\n",
        "             color = colors[flat_y_train[i]],\n",
        "             fontdict={'weight': 'bold', 'size': 9})\n",
        "plt.xlabel(\"t-SNE feature 0\")\n",
        "plt.ylabel(\"t-SNE feature 1\")"
      ],
      "execution_count": 0,
      "outputs": []
    }
  ]
}
